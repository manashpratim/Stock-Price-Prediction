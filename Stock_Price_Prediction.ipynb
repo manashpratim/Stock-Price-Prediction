{
  "nbformat": 4,
  "nbformat_minor": 0,
  "metadata": {
    "colab": {
      "name": "Stock Price Prediction",
      "version": "0.3.2",
      "provenance": [],
      "collapsed_sections": [],
      "include_colab_link": true
    },
    "kernelspec": {
      "name": "python3",
      "display_name": "Python 3"
    },
    "accelerator": "GPU"
  },
  "cells": [
    {
      "cell_type": "markdown",
      "metadata": {
        "id": "view-in-github",
        "colab_type": "text"
      },
      "source": [
        "<a href=\"https://colab.research.google.com/github/manashpratim/Stock-Price-Prediction/blob/master/Stock_Price_Prediction.ipynb\" target=\"_parent\"><img src=\"https://colab.research.google.com/assets/colab-badge.svg\" alt=\"Open In Colab\"/></a>"
      ]
    },
    {
      "cell_type": "code",
      "metadata": {
        "id": "m8ZGbeXB_bMY",
        "colab_type": "code",
        "colab": {
          "base_uri": "https://localhost:8080/",
          "height": 239
        },
        "outputId": "94114f31-b9ab-4d62-8a14-7e27c2d62d50"
      },
      "source": [
        "#Downloading the datasets\n",
        "!wget --no-check-certificate \\\n",
        "      \"https://storage.googleapis.com/kaggle-datasets/854/1575/prices-split-adjusted.csv.zip?GoogleAccessId=web-data@kaggle-161607.iam.gserviceaccount.com&Expires=1565054445&Signature=J0F8Vzig2A5hBrToLl5LFQvJH%2FDaLLJZnElHfQ7tCNrzGtBhqxvFp9QWyywGlaeFY%2FAVEUWJs29yYLaG5iAleDtX%2BLg7tGSJP3msdXRU1xjiWJxivkHXX0IRTKsJG6fjYMVtB86o%2BsDbu6H%2BH2rnUTM5ka0EKSS2bTg79pe3wIf0bOr7b9ywcVB2P%2BfOBKi%2FrcS1Ukf5rXT7IOyFIze8z7XROSgia6NC9O4gLBEEs2ICVac8pxh95wiK1%2Fy4Vzf5kpZ9Vj1Hu0OF1h0h3Mk5QN%2B2tdBdBidwndhv4WiWmHYUtn%2B1cc8eMFHn65rba4E5PjRv90RLoyR2t35EKmfdqQ%3D%3D\"\\\n",
        "      -O \"/tmp/nyse.zip\""
      ],
      "execution_count": 1,
      "outputs": [
        {
          "output_type": "stream",
          "text": [
            "--2019-08-03 04:46:31--  https://storage.googleapis.com/kaggle-datasets/854/1575/prices-split-adjusted.csv.zip?GoogleAccessId=web-data@kaggle-161607.iam.gserviceaccount.com&Expires=1565054445&Signature=J0F8Vzig2A5hBrToLl5LFQvJH%2FDaLLJZnElHfQ7tCNrzGtBhqxvFp9QWyywGlaeFY%2FAVEUWJs29yYLaG5iAleDtX%2BLg7tGSJP3msdXRU1xjiWJxivkHXX0IRTKsJG6fjYMVtB86o%2BsDbu6H%2BH2rnUTM5ka0EKSS2bTg79pe3wIf0bOr7b9ywcVB2P%2BfOBKi%2FrcS1Ukf5rXT7IOyFIze8z7XROSgia6NC9O4gLBEEs2ICVac8pxh95wiK1%2Fy4Vzf5kpZ9Vj1Hu0OF1h0h3Mk5QN%2B2tdBdBidwndhv4WiWmHYUtn%2B1cc8eMFHn65rba4E5PjRv90RLoyR2t35EKmfdqQ%3D%3D\n",
            "Resolving storage.googleapis.com (storage.googleapis.com)... 172.217.25.240, 2404:6800:4004:80e::2010\n",
            "Connecting to storage.googleapis.com (storage.googleapis.com)|172.217.25.240|:443... connected.\n",
            "HTTP request sent, awaiting response... 200 OK\n",
            "Length: 17479071 (17M) [application/zip]\n",
            "Saving to: ‘/tmp/nyse.zip’\n",
            "\n",
            "/tmp/nyse.zip       100%[===================>]  16.67M  29.8MB/s    in 0.6s    \n",
            "\n",
            "2019-08-03 04:46:32 (29.8 MB/s) - ‘/tmp/nyse.zip’ saved [17479071/17479071]\n",
            "\n"
          ],
          "name": "stdout"
        }
      ]
    },
    {
      "cell_type": "code",
      "metadata": {
        "id": "Eq-YwLWbETv-",
        "colab_type": "code",
        "colab": {}
      },
      "source": [
        "# Unzipping the downloaded dataset\n",
        "import os\n",
        "import zipfile\n",
        "\n",
        "local_zip='/tmp/nyse.zip'\n",
        "zip_ref=zipfile.ZipFile(local_zip,'r')\n",
        "zip_ref.extractall('/tmp/nyse')\n",
        "zip_ref.close()"
      ],
      "execution_count": 0,
      "outputs": []
    },
    {
      "cell_type": "code",
      "metadata": {
        "id": "FMPVUPPYEbWf",
        "colab_type": "code",
        "colab": {}
      },
      "source": [
        "#Loading the dataset\n",
        "import pandas as pd\n",
        "df=pd.read_csv('/tmp/nyse/prices-split-adjusted.csv')"
      ],
      "execution_count": 0,
      "outputs": []
    },
    {
      "cell_type": "code",
      "metadata": {
        "id": "dJFRJIkaEjKB",
        "colab_type": "code",
        "colab": {}
      },
      "source": [
        "#Getting the Stock Prices of a company\n",
        "sym='MSFT'\n",
        "symbol=pd.DataFrame(df[df['symbol']==sym].values,columns=df.columns)"
      ],
      "execution_count": 0,
      "outputs": []
    },
    {
      "cell_type": "code",
      "metadata": {
        "id": "6WvQF3buEoUn",
        "colab_type": "code",
        "colab": {
          "base_uri": "https://localhost:8080/",
          "height": 175
        },
        "outputId": "ed46b559-9f2a-46ae-ccad-b7b9238f1217"
      },
      "source": [
        "symbol.head(4)"
      ],
      "execution_count": 5,
      "outputs": [
        {
          "output_type": "execute_result",
          "data": {
            "text/html": [
              "<div>\n",
              "<style scoped>\n",
              "    .dataframe tbody tr th:only-of-type {\n",
              "        vertical-align: middle;\n",
              "    }\n",
              "\n",
              "    .dataframe tbody tr th {\n",
              "        vertical-align: top;\n",
              "    }\n",
              "\n",
              "    .dataframe thead th {\n",
              "        text-align: right;\n",
              "    }\n",
              "</style>\n",
              "<table border=\"1\" class=\"dataframe\">\n",
              "  <thead>\n",
              "    <tr style=\"text-align: right;\">\n",
              "      <th></th>\n",
              "      <th>date</th>\n",
              "      <th>symbol</th>\n",
              "      <th>open</th>\n",
              "      <th>close</th>\n",
              "      <th>low</th>\n",
              "      <th>high</th>\n",
              "      <th>volume</th>\n",
              "    </tr>\n",
              "  </thead>\n",
              "  <tbody>\n",
              "    <tr>\n",
              "      <th>0</th>\n",
              "      <td>2010-01-04</td>\n",
              "      <td>MSFT</td>\n",
              "      <td>30.62</td>\n",
              "      <td>30.95</td>\n",
              "      <td>30.59</td>\n",
              "      <td>31.1</td>\n",
              "      <td>3.84091e+07</td>\n",
              "    </tr>\n",
              "    <tr>\n",
              "      <th>1</th>\n",
              "      <td>2010-01-05</td>\n",
              "      <td>MSFT</td>\n",
              "      <td>30.85</td>\n",
              "      <td>30.96</td>\n",
              "      <td>30.64</td>\n",
              "      <td>31.1</td>\n",
              "      <td>4.97496e+07</td>\n",
              "    </tr>\n",
              "    <tr>\n",
              "      <th>2</th>\n",
              "      <td>2010-01-06</td>\n",
              "      <td>MSFT</td>\n",
              "      <td>30.88</td>\n",
              "      <td>30.77</td>\n",
              "      <td>30.52</td>\n",
              "      <td>31.08</td>\n",
              "      <td>5.81824e+07</td>\n",
              "    </tr>\n",
              "    <tr>\n",
              "      <th>3</th>\n",
              "      <td>2010-01-07</td>\n",
              "      <td>MSFT</td>\n",
              "      <td>30.63</td>\n",
              "      <td>30.45</td>\n",
              "      <td>30.19</td>\n",
              "      <td>30.7</td>\n",
              "      <td>5.05597e+07</td>\n",
              "    </tr>\n",
              "  </tbody>\n",
              "</table>\n",
              "</div>"
            ],
            "text/plain": [
              "         date symbol   open  close    low   high       volume\n",
              "0  2010-01-04   MSFT  30.62  30.95  30.59   31.1  3.84091e+07\n",
              "1  2010-01-05   MSFT  30.85  30.96  30.64   31.1  4.97496e+07\n",
              "2  2010-01-06   MSFT  30.88  30.77  30.52  31.08  5.81824e+07\n",
              "3  2010-01-07   MSFT  30.63  30.45  30.19   30.7  5.05597e+07"
            ]
          },
          "metadata": {
            "tags": []
          },
          "execution_count": 5
        }
      ]
    },
    {
      "cell_type": "code",
      "metadata": {
        "id": "_Yfmev6eEz8W",
        "colab_type": "code",
        "colab": {
          "base_uri": "https://localhost:8080/",
          "height": 35
        },
        "outputId": "b970e666-f4e5-4dca-9858-65a9dc174de1"
      },
      "source": [
        "len(symbol)"
      ],
      "execution_count": 6,
      "outputs": [
        {
          "output_type": "execute_result",
          "data": {
            "text/plain": [
              "1762"
            ]
          },
          "metadata": {
            "tags": []
          },
          "execution_count": 6
        }
      ]
    },
    {
      "cell_type": "code",
      "metadata": {
        "id": "P3wQRst3E2SS",
        "colab_type": "code",
        "colab": {
          "base_uri": "https://localhost:8080/",
          "height": 387
        },
        "outputId": "ef82ec6f-e9ee-4d92-b42f-9cc69b56b956"
      },
      "source": [
        "#Visualizing the Trend of Strock Prices for a company\n",
        "import matplotlib.pyplot as plt\n",
        "import numpy as np\n",
        "t = symbol['date']\n",
        "a = symbol['open']\n",
        "b = symbol['high']\n",
        "c = symbol['low']\n",
        "d = symbol['close']\n",
        "\n",
        "plt.figure(figsize=(10,6))\n",
        "plt.subplot(221)\n",
        "plt.xticks([])\n",
        "plt.plot(t, a,'b')\n",
        "plt.ylabel('Open Price')\n",
        "plt.xlabel('Day')\n",
        "plt.title('Open Price Trend of MSFT (2010-2016)')\n",
        "\n",
        "plt.subplot(222)\n",
        "plt.xticks([])\n",
        "plt.plot(t, b,'r')\n",
        "plt.ylabel('High Price')\n",
        "plt.xlabel('Day')\n",
        "plt.title('High Price Trend of MSFT (2010-2016)')\n",
        "\n",
        "plt.subplot(223)\n",
        "plt.xticks([])\n",
        "plt.plot(t, c,'g')\n",
        "plt.ylabel('Low Price')\n",
        "plt.xlabel('Day')\n",
        "plt.title('Low Price Trend of MSFT (2010-2016)')\n",
        "\n",
        "plt.subplot(224)\n",
        "plt.xticks([])\n",
        "plt.plot(t, d,'m')\n",
        "plt.ylabel('Close Price')\n",
        "plt.xlabel('Day')\n",
        "plt.title('Close Price Trend of MSFT (2010-2016)')\n",
        "\n",
        "plt.show()\n"
      ],
      "execution_count": 8,
      "outputs": [
        {
          "output_type": "display_data",
          "data": {
            "image/png": "[encoded data removed]",
            "text/plain": [
              "<Figure size 720x432 with 4 Axes>"
            ]
          },
          "metadata": {
            "tags": []
          }
        }
      ]
    },
    {
      "cell_type": "code",
      "metadata": {
        "id": "FEW8WZN6GUYy",
        "colab_type": "code",
        "colab": {
          "base_uri": "https://localhost:8080/",
          "height": 54
        },
        "outputId": "29ebc353-279f-4ac3-e976-2c0b42db1240"
      },
      "source": [
        "#Getting the Close Price for the company\n",
        "series=[]\n",
        "time_stamps=[]\n",
        "\n",
        "for i in range(len(symbol)):\n",
        "  series.append(symbol['close'][i])\n",
        "  time_stamps.append(symbol['date'][i])\n",
        "\n",
        "series=np.array(series)\n",
        "time=np.array(time_stamps)\n",
        "print(series.shape)\n",
        "print(time.shape)      "
      ],
      "execution_count": 9,
      "outputs": [
        {
          "output_type": "stream",
          "text": [
            "(1762,)\n",
            "(1762,)\n"
          ],
          "name": "stdout"
        }
      ]
    },
    {
      "cell_type": "code",
      "metadata": {
        "id": "6I-PxL9UGiPl",
        "colab_type": "code",
        "colab": {}
      },
      "source": [
        "import tensorflow as tf"
      ],
      "execution_count": 0,
      "outputs": []
    },
    {
      "cell_type": "code",
      "metadata": {
        "id": "LTvZSrscGs5O",
        "colab_type": "code",
        "colab": {}
      },
      "source": [
        "#Function to prepare the dataset for training\n",
        "def windowed_dataset(series,window_size,batch_size,shuffle_buffer):\n",
        "    dataset=tf.data.Dataset.from_tensor_slices(series)\n",
        "    dataset=dataset.window(window_size+1,shift=1,drop_remainder=True)\n",
        "    dataset=dataset.flat_map(lambda window:window.batch(window_size+1))\n",
        "    dataset=dataset.shuffle(shuffle_buffer)\n",
        "    dataset=dataset.map(lambda window:(window[:-1],window[-1]))\n",
        "    dataset=dataset.batch(batch_size).prefetch(1)\n",
        "    return dataset"
      ],
      "execution_count": 0,
      "outputs": []
    },
    {
      "cell_type": "code",
      "metadata": {
        "id": "c19egSP3Gvj-",
        "colab_type": "code",
        "colab": {}
      },
      "source": [
        "#Prediction Function\n",
        "def forecast(model,series,window_size,split_time):\n",
        "  forecast=[]\n",
        "  for time in range(len(series)-window_size):\n",
        "    forecast.append(model.predict(series[time:time+window_size][np.newaxis]))\n",
        "  forecast=forecast[split_time-window_size:]\n",
        "  results=np.array(forecast)[:,0,0]\n",
        "  return results  "
      ],
      "execution_count": 0,
      "outputs": []
    },
    {
      "cell_type": "code",
      "metadata": {
        "id": "oiL267NgGyQS",
        "colab_type": "code",
        "colab": {}
      },
      "source": [
        "#Train Test Split\n",
        "split_time=1258\n",
        "x_train=series[:split_time]\n",
        "time_train=time[:split_time]\n",
        "x_valid=series[split_time:]\n",
        "time_valid=time[split_time:]\n",
        "window_size=20\n",
        "batch_size=252\n",
        "shuffle_buffer=1000"
      ],
      "execution_count": 0,
      "outputs": []
    },
    {
      "cell_type": "code",
      "metadata": {
        "id": "zecq_FwNIs0y",
        "colab_type": "code",
        "colab": {}
      },
      "source": [
        "tf.keras.backend.clear_session()\n",
        "tf.random.set_random_seed(51)\n",
        "np.random.seed(51)\n",
        "tf.keras.backend.clear_session()\n",
        "dataset=windowed_dataset(x_train,window_size,batch_size,shuffle_buffer)"
      ],
      "execution_count": 0,
      "outputs": []
    },
    {
      "cell_type": "code",
      "metadata": {
        "id": "SIClI4jLI9R2",
        "colab_type": "code",
        "colab": {}
      },
      "source": [
        "model=tf.keras.models.Sequential([\n",
        "      tf.keras.layers.Lambda(lambda x:tf.expand_dims(x,axis=-1)\n",
        "                            # ,input_shape=[None]\n",
        "                            ),\n",
        "      tf.keras.layers.Conv1D(32,kernel_size=5,strides=1,padding='causal',activation='relu',input_shape=[None,1]),\n",
        "      #tf.keras.layers.LSTM(32,return_sequences=True),\n",
        "      #tf.keras.layers.LSTM(32),\n",
        "      tf.keras.layers.SimpleRNN(32,return_sequences=True),\n",
        "      tf.keras.layers.SimpleRNN(32),\n",
        "      #tf.keras.layers.Dense(20,activation='relu'),\n",
        "      #tf.keras.layers.Dense(10,activation='relu'),\n",
        "      tf.keras.layers.Dense(1),\n",
        "      tf.keras.layers.Lambda(lambda x:x*100)\n",
        "])"
      ],
      "execution_count": 0,
      "outputs": []
    },
    {
      "cell_type": "code",
      "metadata": {
        "id": "QgjmuBjiJI7R",
        "colab_type": "code",
        "colab": {
          "base_uri": "https://localhost:8080/",
          "height": 1000
        },
        "outputId": "04196149-b144-40d9-8882-b9faab1c2bdc"
      },
      "source": [
        "#lr_scheduler=tf.keras.callbacks.LearningRateScheduler(lambda epochs:1e-8*10**(epochs/20))\n",
        "loss=tf.keras.losses.Huber()\n",
        "optimizer=tf.keras.optimizers.RMSprop(lr=2.5e-5, rho=0.9, epsilon=None, decay=0.0)\n",
        "model.compile(loss=loss,optimizer=optimizer,metrics=['mae'])\n",
        "history=model.fit(dataset,epochs=250\n",
        "                  #,callbacks=[lr_scheduler]\n",
        "                 )"
      ],
      "execution_count": 237,
      "outputs": [
        {
          "output_type": "stream",
          "text": [
            "Epoch 1/250\n",
            "5/5 [==============================] - 1s 162ms/step - loss: 63.7466 - mean_absolute_error: 64.3720\n",
            "Epoch 2/250\n",
            "5/5 [==============================] - 0s 38ms/step - loss: 51.5714 - mean_absolute_error: 52.1644\n",
            "Epoch 3/250\n",
            "5/5 [==============================] - 0s 39ms/step - loss: 42.4106 - mean_absolute_error: 42.9973\n",
            "Epoch 4/250\n",
            "5/5 [==============================] - 0s 29ms/step - loss: 34.2828 - mean_absolute_error: 34.8413\n",
            "Epoch 5/250\n",
            "5/5 [==============================] - 0s 30ms/step - loss: 27.1801 - mean_absolute_error: 27.7280\n",
            "Epoch 6/250\n",
            "5/5 [==============================] - 0s 34ms/step - loss: 21.2944 - mean_absolute_error: 21.8294\n",
            "Epoch 7/250\n",
            "5/5 [==============================] - 0s 34ms/step - loss: 16.5601 - mean_absolute_error: 17.0910\n",
            "Epoch 8/250\n",
            "5/5 [==============================] - 0s 38ms/step - loss: 13.1186 - mean_absolute_error: 13.6355\n",
            "Epoch 9/250\n",
            "5/5 [==============================] - 0s 36ms/step - loss: 10.8052 - mean_absolute_error: 11.2995\n",
            "Epoch 10/250\n",
            "5/5 [==============================] - 0s 33ms/step - loss: 9.3440 - mean_absolute_error: 9.8327\n",
            "Epoch 11/250\n",
            "5/5 [==============================] - 0s 32ms/step - loss: 8.6522 - mean_absolute_error: 9.1209\n",
            "Epoch 12/250\n",
            "5/5 [==============================] - 0s 37ms/step - loss: 8.2158 - mean_absolute_error: 8.7040\n",
            "Epoch 13/250\n",
            "5/5 [==============================] - 0s 34ms/step - loss: 7.8361 - mean_absolute_error: 8.3062\n",
            "Epoch 14/250\n",
            "5/5 [==============================] - 0s 35ms/step - loss: 7.4116 - mean_absolute_error: 7.8997\n",
            "Epoch 15/250\n",
            "5/5 [==============================] - 0s 36ms/step - loss: 6.9860 - mean_absolute_error: 7.4708\n",
            "Epoch 16/250\n",
            "5/5 [==============================] - 0s 30ms/step - loss: 6.6396 - mean_absolute_error: 7.0932\n",
            "Epoch 17/250\n",
            "5/5 [==============================] - 0s 37ms/step - loss: 6.2857 - mean_absolute_error: 6.7593\n",
            "Epoch 18/250\n",
            "5/5 [==============================] - 0s 37ms/step - loss: 5.8114 - mean_absolute_error: 6.2833\n",
            "Epoch 19/250\n",
            "5/5 [==============================] - 0s 38ms/step - loss: 5.5036 - mean_absolute_error: 5.9860\n",
            "Epoch 20/250\n",
            "5/5 [==============================] - 0s 32ms/step - loss: 5.0792 - mean_absolute_error: 5.5533\n",
            "Epoch 21/250\n",
            "5/5 [==============================] - 0s 35ms/step - loss: 4.7277 - mean_absolute_error: 5.2019\n",
            "Epoch 22/250\n",
            "5/5 [==============================] - 0s 37ms/step - loss: 4.4772 - mean_absolute_error: 4.9576\n",
            "Epoch 23/250\n",
            "5/5 [==============================] - 0s 38ms/step - loss: 4.1091 - mean_absolute_error: 4.5665\n",
            "Epoch 24/250\n",
            "5/5 [==============================] - 0s 32ms/step - loss: 3.9222 - mean_absolute_error: 4.3840\n",
            "Epoch 25/250\n",
            "5/5 [==============================] - 0s 33ms/step - loss: 3.6146 - mean_absolute_error: 4.0844\n",
            "Epoch 26/250\n",
            "5/5 [==============================] - 0s 35ms/step - loss: 3.4401 - mean_absolute_error: 3.9047\n",
            "Epoch 27/250\n",
            "5/5 [==============================] - 0s 38ms/step - loss: 3.2024 - mean_absolute_error: 3.6647\n",
            "Epoch 28/250\n",
            "5/5 [==============================] - 0s 34ms/step - loss: 3.0163 - mean_absolute_error: 3.4779\n",
            "Epoch 29/250\n",
            "5/5 [==============================] - 0s 40ms/step - loss: 2.9328 - mean_absolute_error: 3.4005\n",
            "Epoch 30/250\n",
            "5/5 [==============================] - 0s 35ms/step - loss: 2.7220 - mean_absolute_error: 3.1887\n",
            "Epoch 31/250\n",
            "5/5 [==============================] - 0s 34ms/step - loss: 2.6009 - mean_absolute_error: 3.0650\n",
            "Epoch 32/250\n",
            "5/5 [==============================] - 0s 36ms/step - loss: 2.6713 - mean_absolute_error: 3.1375\n",
            "Epoch 33/250\n",
            "5/5 [==============================] - 0s 36ms/step - loss: 2.5105 - mean_absolute_error: 2.9689\n",
            "Epoch 34/250\n",
            "5/5 [==============================] - 0s 36ms/step - loss: 2.4195 - mean_absolute_error: 2.8784\n",
            "Epoch 35/250\n",
            "5/5 [==============================] - 0s 36ms/step - loss: 2.3355 - mean_absolute_error: 2.7940\n",
            "Epoch 36/250\n",
            "5/5 [==============================] - 0s 32ms/step - loss: 2.2391 - mean_absolute_error: 2.6889\n",
            "Epoch 37/250\n",
            "5/5 [==============================] - 0s 35ms/step - loss: 2.1734 - mean_absolute_error: 2.6277\n",
            "Epoch 38/250\n",
            "5/5 [==============================] - 0s 37ms/step - loss: 2.1702 - mean_absolute_error: 2.6210\n",
            "Epoch 39/250\n",
            "5/5 [==============================] - 0s 37ms/step - loss: 2.2101 - mean_absolute_error: 2.6671\n",
            "Epoch 40/250\n",
            "5/5 [==============================] - 0s 33ms/step - loss: 2.0228 - mean_absolute_error: 2.4778\n",
            "Epoch 41/250\n",
            "5/5 [==============================] - 0s 34ms/step - loss: 1.9521 - mean_absolute_error: 2.4047\n",
            "Epoch 42/250\n",
            "5/5 [==============================] - 0s 38ms/step - loss: 1.9495 - mean_absolute_error: 2.3998\n",
            "Epoch 43/250\n",
            "5/5 [==============================] - 0s 34ms/step - loss: 1.9505 - mean_absolute_error: 2.4035\n",
            "Epoch 44/250\n",
            "5/5 [==============================] - 0s 30ms/step - loss: 1.9074 - mean_absolute_error: 2.3530\n",
            "Epoch 45/250\n",
            "5/5 [==============================] - 0s 36ms/step - loss: 1.8089 - mean_absolute_error: 2.2598\n",
            "Epoch 46/250\n",
            "5/5 [==============================] - 0s 37ms/step - loss: 1.8070 - mean_absolute_error: 2.2596\n",
            "Epoch 47/250\n",
            "5/5 [==============================] - 0s 37ms/step - loss: 1.7376 - mean_absolute_error: 2.1867\n",
            "Epoch 48/250\n",
            "5/5 [==============================] - 0s 35ms/step - loss: 1.7558 - mean_absolute_error: 2.2038\n",
            "Epoch 49/250\n",
            "5/5 [==============================] - 0s 37ms/step - loss: 1.6216 - mean_absolute_error: 2.0681\n",
            "Epoch 50/250\n",
            "5/5 [==============================] - 0s 39ms/step - loss: 1.6938 - mean_absolute_error: 2.1345\n",
            "Epoch 51/250\n",
            "5/5 [==============================] - 0s 34ms/step - loss: 1.6427 - mean_absolute_error: 2.0865\n",
            "Epoch 52/250\n",
            "5/5 [==============================] - 0s 31ms/step - loss: 1.5534 - mean_absolute_error: 1.9912\n",
            "Epoch 53/250\n",
            "5/5 [==============================] - 0s 35ms/step - loss: 1.5125 - mean_absolute_error: 1.9512\n",
            "Epoch 54/250\n",
            "5/5 [==============================] - 0s 35ms/step - loss: 1.5949 - mean_absolute_error: 2.0372\n",
            "Epoch 55/250\n",
            "5/5 [==============================] - 0s 34ms/step - loss: 1.5590 - mean_absolute_error: 2.0056\n",
            "Epoch 56/250\n",
            "5/5 [==============================] - 0s 37ms/step - loss: 1.4286 - mean_absolute_error: 1.8671\n",
            "Epoch 57/250\n",
            "5/5 [==============================] - 0s 35ms/step - loss: 1.3846 - mean_absolute_error: 1.8246\n",
            "Epoch 58/250\n",
            "5/5 [==============================] - 0s 30ms/step - loss: 1.5610 - mean_absolute_error: 2.0145\n",
            "Epoch 59/250\n",
            "5/5 [==============================] - 0s 35ms/step - loss: 1.4056 - mean_absolute_error: 1.8440\n",
            "Epoch 60/250\n",
            "5/5 [==============================] - 0s 37ms/step - loss: 1.3356 - mean_absolute_error: 1.7683\n",
            "Epoch 61/250\n",
            "5/5 [==============================] - 0s 38ms/step - loss: 1.3040 - mean_absolute_error: 1.7379\n",
            "Epoch 62/250\n",
            "5/5 [==============================] - 0s 35ms/step - loss: 1.3531 - mean_absolute_error: 1.7869\n",
            "Epoch 63/250\n",
            "5/5 [==============================] - 0s 36ms/step - loss: 1.3179 - mean_absolute_error: 1.7490\n",
            "Epoch 64/250\n",
            "5/5 [==============================] - 0s 36ms/step - loss: 1.2177 - mean_absolute_error: 1.6509\n",
            "Epoch 65/250\n",
            "5/5 [==============================] - 0s 35ms/step - loss: 1.3755 - mean_absolute_error: 1.8080\n",
            "Epoch 66/250\n",
            "5/5 [==============================] - 0s 36ms/step - loss: 1.1819 - mean_absolute_error: 1.6139\n",
            "Epoch 67/250\n",
            "5/5 [==============================] - 0s 33ms/step - loss: 1.2153 - mean_absolute_error: 1.6439\n",
            "Epoch 68/250\n",
            "5/5 [==============================] - 0s 36ms/step - loss: 1.2256 - mean_absolute_error: 1.6564\n",
            "Epoch 69/250\n",
            "5/5 [==============================] - 0s 37ms/step - loss: 1.1598 - mean_absolute_error: 1.5862\n",
            "Epoch 70/250\n",
            "5/5 [==============================] - 0s 36ms/step - loss: 1.1620 - mean_absolute_error: 1.5902\n",
            "Epoch 71/250\n",
            "5/5 [==============================] - 0s 35ms/step - loss: 1.1898 - mean_absolute_error: 1.6209\n",
            "Epoch 72/250\n",
            "5/5 [==============================] - 0s 36ms/step - loss: 1.0639 - mean_absolute_error: 1.4874\n",
            "Epoch 73/250\n",
            "5/5 [==============================] - 0s 34ms/step - loss: 1.1799 - mean_absolute_error: 1.6065\n",
            "Epoch 74/250\n",
            "5/5 [==============================] - 0s 35ms/step - loss: 1.0744 - mean_absolute_error: 1.4983\n",
            "Epoch 75/250\n",
            "5/5 [==============================] - 0s 35ms/step - loss: 1.0293 - mean_absolute_error: 1.4506\n",
            "Epoch 76/250\n",
            "5/5 [==============================] - 0s 33ms/step - loss: 1.0612 - mean_absolute_error: 1.4867\n",
            "Epoch 77/250\n",
            "5/5 [==============================] - 0s 35ms/step - loss: 1.0702 - mean_absolute_error: 1.4958\n",
            "Epoch 78/250\n",
            "5/5 [==============================] - 0s 36ms/step - loss: 0.9876 - mean_absolute_error: 1.4054\n",
            "Epoch 79/250\n",
            "5/5 [==============================] - 0s 36ms/step - loss: 0.9886 - mean_absolute_error: 1.4106\n",
            "Epoch 80/250\n",
            "5/5 [==============================] - 0s 35ms/step - loss: 1.0040 - mean_absolute_error: 1.4220\n",
            "Epoch 81/250\n",
            "5/5 [==============================] - 0s 36ms/step - loss: 0.9432 - mean_absolute_error: 1.3582\n",
            "Epoch 82/250\n",
            "5/5 [==============================] - 0s 32ms/step - loss: 1.0311 - mean_absolute_error: 1.4525\n",
            "Epoch 83/250\n",
            "5/5 [==============================] - 0s 37ms/step - loss: 0.8589 - mean_absolute_error: 1.2719\n",
            "Epoch 84/250\n",
            "5/5 [==============================] - 0s 36ms/step - loss: 0.8917 - mean_absolute_error: 1.3087\n",
            "Epoch 85/250\n",
            "5/5 [==============================] - 0s 35ms/step - loss: 0.9257 - mean_absolute_error: 1.3421\n",
            "Epoch 86/250\n",
            "5/5 [==============================] - 0s 32ms/step - loss: 0.8183 - mean_absolute_error: 1.2282\n",
            "Epoch 87/250\n",
            "5/5 [==============================] - 0s 36ms/step - loss: 0.9225 - mean_absolute_error: 1.3339\n",
            "Epoch 88/250\n",
            "5/5 [==============================] - 0s 36ms/step - loss: 0.8204 - mean_absolute_error: 1.2338\n",
            "Epoch 89/250\n",
            "5/5 [==============================] - 0s 35ms/step - loss: 0.8019 - mean_absolute_error: 1.2098\n",
            "Epoch 90/250\n",
            "5/5 [==============================] - 0s 35ms/step - loss: 0.8498 - mean_absolute_error: 1.2618\n",
            "Epoch 91/250\n",
            "5/5 [==============================] - 0s 36ms/step - loss: 0.7951 - mean_absolute_error: 1.2016\n",
            "Epoch 92/250\n",
            "5/5 [==============================] - 0s 34ms/step - loss: 0.7194 - mean_absolute_error: 1.1176\n",
            "Epoch 93/250\n",
            "5/5 [==============================] - 0s 34ms/step - loss: 0.7387 - mean_absolute_error: 1.1425\n",
            "Epoch 94/250\n",
            "5/5 [==============================] - 0s 36ms/step - loss: 0.8582 - mean_absolute_error: 1.2759\n",
            "Epoch 95/250\n",
            "5/5 [==============================] - 0s 33ms/step - loss: 0.6816 - mean_absolute_error: 1.0776\n",
            "Epoch 96/250\n",
            "5/5 [==============================] - 0s 37ms/step - loss: 0.6974 - mean_absolute_error: 1.0903\n",
            "Epoch 97/250\n",
            "5/5 [==============================] - 0s 35ms/step - loss: 0.7261 - mean_absolute_error: 1.1304\n",
            "Epoch 98/250\n",
            "5/5 [==============================] - 0s 35ms/step - loss: 0.7153 - mean_absolute_error: 1.1156\n",
            "Epoch 99/250\n",
            "5/5 [==============================] - 0s 33ms/step - loss: 0.7060 - mean_absolute_error: 1.1064\n",
            "Epoch 100/250\n",
            "5/5 [==============================] - 0s 33ms/step - loss: 0.6306 - mean_absolute_error: 1.0201\n",
            "Epoch 101/250\n",
            "5/5 [==============================] - 0s 35ms/step - loss: 0.6830 - mean_absolute_error: 1.0799\n",
            "Epoch 102/250\n",
            "5/5 [==============================] - 0s 36ms/step - loss: 0.6441 - mean_absolute_error: 1.0394\n",
            "Epoch 103/250\n",
            "5/5 [==============================] - 0s 37ms/step - loss: 0.5627 - mean_absolute_error: 0.9414\n",
            "Epoch 104/250\n",
            "5/5 [==============================] - 0s 35ms/step - loss: 0.6407 - mean_absolute_error: 1.0243\n",
            "Epoch 105/250\n",
            "5/5 [==============================] - 0s 36ms/step - loss: 0.7120 - mean_absolute_error: 1.1184\n",
            "Epoch 106/250\n",
            "5/5 [==============================] - 0s 31ms/step - loss: 0.5506 - mean_absolute_error: 0.9228\n",
            "Epoch 107/250\n",
            "5/5 [==============================] - 0s 37ms/step - loss: 0.5218 - mean_absolute_error: 0.8971\n",
            "Epoch 108/250\n",
            "5/5 [==============================] - 0s 35ms/step - loss: 0.6415 - mean_absolute_error: 1.0233\n",
            "Epoch 109/250\n",
            "5/5 [==============================] - 0s 34ms/step - loss: 0.5892 - mean_absolute_error: 0.9791\n",
            "Epoch 110/250\n",
            "5/5 [==============================] - 0s 39ms/step - loss: 0.5822 - mean_absolute_error: 0.9702\n",
            "Epoch 111/250\n",
            "5/5 [==============================] - 0s 36ms/step - loss: 0.5403 - mean_absolute_error: 0.9296\n",
            "Epoch 112/250\n",
            "5/5 [==============================] - 0s 36ms/step - loss: 0.5758 - mean_absolute_error: 0.9593\n",
            "Epoch 113/250\n",
            "5/5 [==============================] - 0s 34ms/step - loss: 0.5520 - mean_absolute_error: 0.9349\n",
            "Epoch 114/250\n",
            "5/5 [==============================] - 0s 35ms/step - loss: 0.4715 - mean_absolute_error: 0.8343\n",
            "Epoch 115/250\n",
            "5/5 [==============================] - 0s 38ms/step - loss: 0.5604 - mean_absolute_error: 0.9425\n",
            "Epoch 116/250\n",
            "5/5 [==============================] - 0s 35ms/step - loss: 0.5689 - mean_absolute_error: 0.9588\n",
            "Epoch 117/250\n",
            "5/5 [==============================] - 0s 44ms/step - loss: 0.4544 - mean_absolute_error: 0.8190\n",
            "Epoch 118/250\n",
            "5/5 [==============================] - 0s 38ms/step - loss: 0.5016 - mean_absolute_error: 0.8705\n",
            "Epoch 119/250\n",
            "5/5 [==============================] - 0s 32ms/step - loss: 0.5617 - mean_absolute_error: 0.9493\n",
            "Epoch 120/250\n",
            "5/5 [==============================] - 0s 32ms/step - loss: 0.4891 - mean_absolute_error: 0.8668\n",
            "Epoch 121/250\n",
            "5/5 [==============================] - 0s 36ms/step - loss: 0.4533 - mean_absolute_error: 0.8182\n",
            "Epoch 122/250\n",
            "5/5 [==============================] - 0s 31ms/step - loss: 0.5015 - mean_absolute_error: 0.8757\n",
            "Epoch 123/250\n",
            "5/5 [==============================] - 0s 35ms/step - loss: 0.4115 - mean_absolute_error: 0.7661\n",
            "Epoch 124/250\n",
            "5/5 [==============================] - 0s 32ms/step - loss: 0.5274 - mean_absolute_error: 0.9094\n",
            "Epoch 125/250\n",
            "5/5 [==============================] - 0s 35ms/step - loss: 0.4024 - mean_absolute_error: 0.7568\n",
            "Epoch 126/250\n",
            "5/5 [==============================] - 0s 38ms/step - loss: 0.4775 - mean_absolute_error: 0.8379\n",
            "Epoch 127/250\n",
            "5/5 [==============================] - 0s 35ms/step - loss: 0.4763 - mean_absolute_error: 0.8485\n",
            "Epoch 128/250\n",
            "5/5 [==============================] - 0s 36ms/step - loss: 0.3758 - mean_absolute_error: 0.7244\n",
            "Epoch 129/250\n",
            "5/5 [==============================] - 0s 35ms/step - loss: 0.4836 - mean_absolute_error: 0.8544\n",
            "Epoch 130/250\n",
            "5/5 [==============================] - 0s 37ms/step - loss: 0.4172 - mean_absolute_error: 0.7812\n",
            "Epoch 131/250\n",
            "5/5 [==============================] - 0s 31ms/step - loss: 0.4362 - mean_absolute_error: 0.8005\n",
            "Epoch 132/250\n",
            "5/5 [==============================] - 0s 37ms/step - loss: 0.4270 - mean_absolute_error: 0.7885\n",
            "Epoch 133/250\n",
            "5/5 [==============================] - 0s 34ms/step - loss: 0.3748 - mean_absolute_error: 0.7217\n",
            "Epoch 134/250\n",
            "5/5 [==============================] - 0s 38ms/step - loss: 0.4484 - mean_absolute_error: 0.8167\n",
            "Epoch 135/250\n",
            "5/5 [==============================] - 0s 35ms/step - loss: 0.4661 - mean_absolute_error: 0.8366\n",
            "Epoch 136/250\n",
            "5/5 [==============================] - 0s 35ms/step - loss: 0.4318 - mean_absolute_error: 0.8013\n",
            "Epoch 137/250\n",
            "5/5 [==============================] - 0s 38ms/step - loss: 0.3326 - mean_absolute_error: 0.6673\n",
            "Epoch 138/250\n",
            "5/5 [==============================] - 0s 32ms/step - loss: 0.3756 - mean_absolute_error: 0.7193\n",
            "Epoch 139/250\n",
            "5/5 [==============================] - 0s 34ms/step - loss: 0.4305 - mean_absolute_error: 0.7956\n",
            "Epoch 140/250\n",
            "5/5 [==============================] - 0s 37ms/step - loss: 0.3385 - mean_absolute_error: 0.6778\n",
            "Epoch 141/250\n",
            "5/5 [==============================] - 0s 34ms/step - loss: 0.3974 - mean_absolute_error: 0.7544\n",
            "Epoch 142/250\n",
            "5/5 [==============================] - 0s 36ms/step - loss: 0.3402 - mean_absolute_error: 0.6795\n",
            "Epoch 143/250\n",
            "5/5 [==============================] - 0s 35ms/step - loss: 0.4784 - mean_absolute_error: 0.8613\n",
            "Epoch 144/250\n",
            "5/5 [==============================] - 0s 33ms/step - loss: 0.3303 - mean_absolute_error: 0.6722\n",
            "Epoch 145/250\n",
            "5/5 [==============================] - 0s 35ms/step - loss: 0.3586 - mean_absolute_error: 0.7115\n",
            "Epoch 146/250\n",
            "5/5 [==============================] - 0s 34ms/step - loss: 0.3927 - mean_absolute_error: 0.7575\n",
            "Epoch 147/250\n",
            "5/5 [==============================] - 0s 37ms/step - loss: 0.3351 - mean_absolute_error: 0.6729\n",
            "Epoch 148/250\n",
            "5/5 [==============================] - 0s 38ms/step - loss: 0.4232 - mean_absolute_error: 0.7977\n",
            "Epoch 149/250\n",
            "5/5 [==============================] - 0s 35ms/step - loss: 0.3462 - mean_absolute_error: 0.6877\n",
            "Epoch 150/250\n",
            "5/5 [==============================] - 0s 35ms/step - loss: 0.3672 - mean_absolute_error: 0.7246\n",
            "Epoch 151/250\n",
            "5/5 [==============================] - 0s 34ms/step - loss: 0.3695 - mean_absolute_error: 0.7268\n",
            "Epoch 152/250\n",
            "5/5 [==============================] - 0s 36ms/step - loss: 0.3565 - mean_absolute_error: 0.7035\n",
            "Epoch 153/250\n",
            "5/5 [==============================] - 0s 37ms/step - loss: 0.3318 - mean_absolute_error: 0.6718\n",
            "Epoch 154/250\n",
            "5/5 [==============================] - 0s 31ms/step - loss: 0.3390 - mean_absolute_error: 0.6877\n",
            "Epoch 155/250\n",
            "5/5 [==============================] - 0s 34ms/step - loss: 0.3522 - mean_absolute_error: 0.7048\n",
            "Epoch 156/250\n",
            "5/5 [==============================] - 0s 34ms/step - loss: 0.3758 - mean_absolute_error: 0.7261\n",
            "Epoch 157/250\n",
            "5/5 [==============================] - 0s 37ms/step - loss: 0.3657 - mean_absolute_error: 0.7249\n",
            "Epoch 158/250\n",
            "5/5 [==============================] - 0s 36ms/step - loss: 0.3238 - mean_absolute_error: 0.6641\n",
            "Epoch 159/250\n",
            "5/5 [==============================] - 0s 37ms/step - loss: 0.3528 - mean_absolute_error: 0.7030\n",
            "Epoch 160/250\n",
            "5/5 [==============================] - 0s 34ms/step - loss: 0.2663 - mean_absolute_error: 0.5812\n",
            "Epoch 161/250\n",
            "5/5 [==============================] - 0s 35ms/step - loss: 0.2625 - mean_absolute_error: 0.5763\n",
            "Epoch 162/250\n",
            "5/5 [==============================] - 0s 37ms/step - loss: 0.4617 - mean_absolute_error: 0.8470\n",
            "Epoch 163/250\n",
            "5/5 [==============================] - 0s 35ms/step - loss: 0.3423 - mean_absolute_error: 0.6860\n",
            "Epoch 164/250\n",
            "5/5 [==============================] - 0s 41ms/step - loss: 0.3562 - mean_absolute_error: 0.7099\n",
            "Epoch 165/250\n",
            "5/5 [==============================] - 0s 33ms/step - loss: 0.3080 - mean_absolute_error: 0.6413\n",
            "Epoch 166/250\n",
            "5/5 [==============================] - 0s 31ms/step - loss: 0.3519 - mean_absolute_error: 0.7017\n",
            "Epoch 167/250\n",
            "5/5 [==============================] - 0s 35ms/step - loss: 0.2879 - mean_absolute_error: 0.6190\n",
            "Epoch 168/250\n",
            "5/5 [==============================] - 0s 37ms/step - loss: 0.2515 - mean_absolute_error: 0.5613\n",
            "Epoch 169/250\n",
            "5/5 [==============================] - 0s 38ms/step - loss: 0.4626 - mean_absolute_error: 0.8513\n",
            "Epoch 170/250\n",
            "5/5 [==============================] - 0s 34ms/step - loss: 0.2672 - mean_absolute_error: 0.5911\n",
            "Epoch 171/250\n",
            "5/5 [==============================] - 0s 34ms/step - loss: 0.2617 - mean_absolute_error: 0.5789\n",
            "Epoch 172/250\n",
            "5/5 [==============================] - 0s 38ms/step - loss: 0.4157 - mean_absolute_error: 0.7952\n",
            "Epoch 173/250\n",
            "5/5 [==============================] - 0s 37ms/step - loss: 0.2786 - mean_absolute_error: 0.6078\n",
            "Epoch 174/250\n",
            "5/5 [==============================] - 0s 35ms/step - loss: 0.3139 - mean_absolute_error: 0.6525\n",
            "Epoch 175/250\n",
            "5/5 [==============================] - 0s 41ms/step - loss: 0.3339 - mean_absolute_error: 0.6794\n",
            "Epoch 176/250\n",
            "5/5 [==============================] - 0s 35ms/step - loss: 0.3561 - mean_absolute_error: 0.7101\n",
            "Epoch 177/250\n",
            "5/5 [==============================] - 0s 39ms/step - loss: 0.3015 - mean_absolute_error: 0.6296\n",
            "Epoch 178/250\n",
            "5/5 [==============================] - 0s 36ms/step - loss: 0.3186 - mean_absolute_error: 0.6596\n",
            "Epoch 179/250\n",
            "5/5 [==============================] - 0s 34ms/step - loss: 0.3571 - mean_absolute_error: 0.7125\n",
            "Epoch 180/250\n",
            "5/5 [==============================] - 0s 37ms/step - loss: 0.2843 - mean_absolute_error: 0.6124\n",
            "Epoch 181/250\n",
            "5/5 [==============================] - 0s 34ms/step - loss: 0.3160 - mean_absolute_error: 0.6578\n",
            "Epoch 182/250\n",
            "5/5 [==============================] - 0s 33ms/step - loss: 0.3356 - mean_absolute_error: 0.6924\n",
            "Epoch 183/250\n",
            "5/5 [==============================] - 0s 34ms/step - loss: 0.2744 - mean_absolute_error: 0.5969\n",
            "Epoch 184/250\n",
            "5/5 [==============================] - 0s 38ms/step - loss: 0.3022 - mean_absolute_error: 0.6392\n",
            "Epoch 185/250\n",
            "5/5 [==============================] - 0s 37ms/step - loss: 0.3051 - mean_absolute_error: 0.6466\n",
            "Epoch 186/250\n",
            "5/5 [==============================] - 0s 37ms/step - loss: 0.2927 - mean_absolute_error: 0.6296\n",
            "Epoch 187/250\n",
            "5/5 [==============================] - 0s 39ms/step - loss: 0.3089 - mean_absolute_error: 0.6546\n",
            "Epoch 188/250\n",
            "5/5 [==============================] - 0s 36ms/step - loss: 0.3356 - mean_absolute_error: 0.6852\n",
            "Epoch 189/250\n",
            "5/5 [==============================] - 0s 37ms/step - loss: 0.3096 - mean_absolute_error: 0.6507\n",
            "Epoch 190/250\n",
            "5/5 [==============================] - 0s 38ms/step - loss: 0.2825 - mean_absolute_error: 0.6085\n",
            "Epoch 191/250\n",
            "5/5 [==============================] - 0s 39ms/step - loss: 0.3277 - mean_absolute_error: 0.6757\n",
            "Epoch 192/250\n",
            "5/5 [==============================] - 0s 37ms/step - loss: 0.2938 - mean_absolute_error: 0.6254\n",
            "Epoch 193/250\n",
            "5/5 [==============================] - 0s 35ms/step - loss: 0.2992 - mean_absolute_error: 0.6423\n",
            "Epoch 194/250\n",
            "5/5 [==============================] - 0s 36ms/step - loss: 0.3396 - mean_absolute_error: 0.6902\n",
            "Epoch 195/250\n",
            "5/5 [==============================] - 0s 37ms/step - loss: 0.2703 - mean_absolute_error: 0.5971\n",
            "Epoch 196/250\n",
            "5/5 [==============================] - 0s 33ms/step - loss: 0.2291 - mean_absolute_error: 0.5304\n",
            "Epoch 197/250\n",
            "5/5 [==============================] - 0s 34ms/step - loss: 0.3441 - mean_absolute_error: 0.7073\n",
            "Epoch 198/250\n",
            "5/5 [==============================] - 0s 36ms/step - loss: 0.3176 - mean_absolute_error: 0.6640\n",
            "Epoch 199/250\n",
            "5/5 [==============================] - 0s 33ms/step - loss: 0.2609 - mean_absolute_error: 0.5844\n",
            "Epoch 200/250\n",
            "5/5 [==============================] - 0s 37ms/step - loss: 0.2692 - mean_absolute_error: 0.5960\n",
            "Epoch 201/250\n",
            "5/5 [==============================] - 0s 36ms/step - loss: 0.3415 - mean_absolute_error: 0.6970\n",
            "Epoch 202/250\n",
            "5/5 [==============================] - 0s 34ms/step - loss: 0.2824 - mean_absolute_error: 0.6142\n",
            "Epoch 203/250\n",
            "5/5 [==============================] - 0s 32ms/step - loss: 0.3069 - mean_absolute_error: 0.6548\n",
            "Epoch 204/250\n",
            "5/5 [==============================] - 0s 32ms/step - loss: 0.2916 - mean_absolute_error: 0.6265\n",
            "Epoch 205/250\n",
            "5/5 [==============================] - 0s 34ms/step - loss: 0.2687 - mean_absolute_error: 0.5969\n",
            "Epoch 206/250\n",
            "5/5 [==============================] - 0s 33ms/step - loss: 0.2794 - mean_absolute_error: 0.6107\n",
            "Epoch 207/250\n",
            "5/5 [==============================] - 0s 36ms/step - loss: 0.3109 - mean_absolute_error: 0.6602\n",
            "Epoch 208/250\n",
            "5/5 [==============================] - 0s 34ms/step - loss: 0.2865 - mean_absolute_error: 0.6226\n",
            "Epoch 209/250\n",
            "5/5 [==============================] - 0s 37ms/step - loss: 0.2766 - mean_absolute_error: 0.6095\n",
            "Epoch 210/250\n",
            "5/5 [==============================] - 0s 35ms/step - loss: 0.2723 - mean_absolute_error: 0.6009\n",
            "Epoch 211/250\n",
            "5/5 [==============================] - 0s 35ms/step - loss: 0.2663 - mean_absolute_error: 0.5946\n",
            "Epoch 212/250\n",
            "5/5 [==============================] - 0s 37ms/step - loss: 0.3312 - mean_absolute_error: 0.6843\n",
            "Epoch 213/250\n",
            "5/5 [==============================] - 0s 33ms/step - loss: 0.2270 - mean_absolute_error: 0.5326\n",
            "Epoch 214/250\n",
            "5/5 [==============================] - 0s 38ms/step - loss: 0.3207 - mean_absolute_error: 0.6717\n",
            "Epoch 215/250\n",
            "5/5 [==============================] - 0s 35ms/step - loss: 0.2542 - mean_absolute_error: 0.5766\n",
            "Epoch 216/250\n",
            "5/5 [==============================] - 0s 32ms/step - loss: 0.2923 - mean_absolute_error: 0.6277\n",
            "Epoch 217/250\n",
            "5/5 [==============================] - 0s 36ms/step - loss: 0.2609 - mean_absolute_error: 0.5815\n",
            "Epoch 218/250\n",
            "5/5 [==============================] - 0s 38ms/step - loss: 0.3194 - mean_absolute_error: 0.6707\n",
            "Epoch 219/250\n",
            "5/5 [==============================] - 0s 35ms/step - loss: 0.2821 - mean_absolute_error: 0.6137\n",
            "Epoch 220/250\n",
            "5/5 [==============================] - 0s 35ms/step - loss: 0.2313 - mean_absolute_error: 0.5451\n",
            "Epoch 221/250\n",
            "5/5 [==============================] - 0s 37ms/step - loss: 0.3293 - mean_absolute_error: 0.6820\n",
            "Epoch 222/250\n",
            "5/5 [==============================] - 0s 38ms/step - loss: 0.2433 - mean_absolute_error: 0.5583\n",
            "Epoch 223/250\n",
            "5/5 [==============================] - 0s 37ms/step - loss: 0.2387 - mean_absolute_error: 0.5492\n",
            "Epoch 224/250\n",
            "5/5 [==============================] - 0s 34ms/step - loss: 0.2942 - mean_absolute_error: 0.6386\n",
            "Epoch 225/250\n",
            "5/5 [==============================] - 0s 35ms/step - loss: 0.2996 - mean_absolute_error: 0.6414\n",
            "Epoch 226/250\n",
            "5/5 [==============================] - 0s 38ms/step - loss: 0.2886 - mean_absolute_error: 0.6264\n",
            "Epoch 227/250\n",
            "5/5 [==============================] - 0s 30ms/step - loss: 0.2593 - mean_absolute_error: 0.5817\n",
            "Epoch 228/250\n",
            "5/5 [==============================] - 0s 37ms/step - loss: 0.2631 - mean_absolute_error: 0.5887\n",
            "Epoch 229/250\n",
            "5/5 [==============================] - 0s 36ms/step - loss: 0.2831 - mean_absolute_error: 0.6196\n",
            "Epoch 230/250\n",
            "5/5 [==============================] - 0s 35ms/step - loss: 0.2809 - mean_absolute_error: 0.6163\n",
            "Epoch 231/250\n",
            "5/5 [==============================] - 0s 35ms/step - loss: 0.2371 - mean_absolute_error: 0.5492\n",
            "Epoch 232/250\n",
            "5/5 [==============================] - 0s 38ms/step - loss: 0.2817 - mean_absolute_error: 0.6157\n",
            "Epoch 233/250\n",
            "5/5 [==============================] - 0s 34ms/step - loss: 0.2761 - mean_absolute_error: 0.6112\n",
            "Epoch 234/250\n",
            "5/5 [==============================] - 0s 37ms/step - loss: 0.2585 - mean_absolute_error: 0.5852\n",
            "Epoch 235/250\n",
            "5/5 [==============================] - 0s 36ms/step - loss: 0.2738 - mean_absolute_error: 0.6038\n",
            "Epoch 236/250\n",
            "5/5 [==============================] - 0s 37ms/step - loss: 0.2719 - mean_absolute_error: 0.6073\n",
            "Epoch 237/250\n",
            "5/5 [==============================] - 0s 38ms/step - loss: 0.1895 - mean_absolute_error: 0.4802\n",
            "Epoch 238/250\n",
            "5/5 [==============================] - 0s 35ms/step - loss: 0.1897 - mean_absolute_error: 0.4747\n",
            "Epoch 239/250\n",
            "5/5 [==============================] - 0s 35ms/step - loss: 0.4105 - mean_absolute_error: 0.7968\n",
            "Epoch 240/250\n",
            "5/5 [==============================] - 0s 35ms/step - loss: 0.2150 - mean_absolute_error: 0.5230\n",
            "Epoch 241/250\n",
            "5/5 [==============================] - 0s 34ms/step - loss: 0.1980 - mean_absolute_error: 0.4893\n",
            "Epoch 242/250\n",
            "5/5 [==============================] - 0s 36ms/step - loss: 0.3391 - mean_absolute_error: 0.7044\n",
            "Epoch 243/250\n",
            "5/5 [==============================] - 0s 36ms/step - loss: 0.2458 - mean_absolute_error: 0.5588\n",
            "Epoch 244/250\n",
            "5/5 [==============================] - 0s 36ms/step - loss: 0.3121 - mean_absolute_error: 0.6636\n",
            "Epoch 245/250\n",
            "5/5 [==============================] - 0s 37ms/step - loss: 0.2038 - mean_absolute_error: 0.5037\n",
            "Epoch 246/250\n",
            "5/5 [==============================] - 0s 33ms/step - loss: 0.2735 - mean_absolute_error: 0.6021\n",
            "Epoch 247/250\n",
            "5/5 [==============================] - 0s 38ms/step - loss: 0.2555 - mean_absolute_error: 0.5796\n",
            "Epoch 248/250\n",
            "5/5 [==============================] - 0s 37ms/step - loss: 0.2062 - mean_absolute_error: 0.5069\n",
            "Epoch 249/250\n",
            "5/5 [==============================] - 0s 30ms/step - loss: 0.3398 - mean_absolute_error: 0.7014\n",
            "Epoch 250/250\n",
            "5/5 [==============================] - 0s 33ms/step - loss: 0.2476 - mean_absolute_error: 0.5736\n"
          ],
          "name": "stdout"
        }
      ]
    },
    {
      "cell_type": "code",
      "metadata": {
        "id": "wKt8KI5aJN4B",
        "colab_type": "code",
        "colab": {
          "base_uri": "https://localhost:8080/",
          "height": 291
        },
        "outputId": "7acab9e7-7013-4fa7-e4e3-6279861ba03a"
      },
      "source": [
        "#Optimizing the Learning Rate\n",
        "lrs=1e-8*(10**(np.arange(100)/20))\n",
        "plt.semilogx(lrs,history.history['loss'])\n",
        "plt.axis([1e-8,1e-3,0,10])"
      ],
      "execution_count": 217,
      "outputs": [
        {
          "output_type": "execute_result",
          "data": {
            "text/plain": [
              "[1e-08, 0.001, 0, 10]"
            ]
          },
          "metadata": {
            "tags": []
          },
          "execution_count": 217
        },
        {
          "output_type": "display_data",
          "data": {
            "image/png": "[encoded data removed]",
            "text/plain": [
              "<Figure size 432x288 with 1 Axes>"
            ]
          },
          "metadata": {
            "tags": []
          }
        }
      ]
    },
    {
      "cell_type": "code",
      "metadata": {
        "id": "tsXiArVdJUmp",
        "colab_type": "code",
        "colab": {
          "base_uri": "https://localhost:8080/",
          "height": 269
        },
        "outputId": "b7aeb820-4840-47fc-9979-7cadef500e2b"
      },
      "source": [
        "#Visualizing the Loss over the epochs\n",
        "loss=history.history['loss']\n",
        "epochs=range(100,len(loss))\n",
        "plt.plot(epochs,loss[100:],label='Training_Loss')\n",
        "plt.legend(loc='upper right')\n",
        "plt.show()"
      ],
      "execution_count": 238,
      "outputs": [
        {
          "output_type": "display_data",
          "data": {
            "image/png": "[encoded data removed]",
            "text/plain": [
              "<Figure size 432x288 with 1 Axes>"
            ]
          },
          "metadata": {
            "tags": []
          }
        }
      ]
    },
    {
      "cell_type": "code",
      "metadata": {
        "id": "N3jI45LGJte6",
        "colab_type": "code",
        "colab": {}
      },
      "source": [
        "#Forecasting the stock prices\n",
        "predictions=forecast(model,series,window_size,split_time)"
      ],
      "execution_count": 0,
      "outputs": []
    },
    {
      "cell_type": "code",
      "metadata": {
        "id": "I9MN64uMJ_TZ",
        "colab_type": "code",
        "colab": {
          "base_uri": "https://localhost:8080/",
          "height": 393
        },
        "outputId": "8967fc04-ecfc-42d6-c937-762cb0b151d2"
      },
      "source": [
        "#Visualizing the Forecasted Stock Prices\n",
        "plt.figure(figsize=(10,6))\n",
        "plt.plot(time_valid,x_valid,label='Actual Stock Price')\n",
        "plt.plot(time_valid,predictions,'r',label='Forecasted Stock Price')\n",
        "plt.xlabel('Time')\n",
        "plt.ylabel('Closing Stock Price')\n",
        "plt.legend(loc='upper left')\n",
        "plt.xticks([])"
      ],
      "execution_count": 240,
      "outputs": [
        {
          "output_type": "execute_result",
          "data": {
            "text/plain": [
              "([], <a list of 0 Text xticklabel objects>)"
            ]
          },
          "metadata": {
            "tags": []
          },
          "execution_count": 240
        },
        {
          "output_type": "display_data",
          "data": {
            "image/png": "[encoded data removed]",
            "text/plain": [
              "<Figure size 720x432 with 1 Axes>"
            ]
          },
          "metadata": {
            "tags": []
          }
        }
      ]
    },
    {
      "cell_type": "code",
      "metadata": {
        "id": "2HNlCEcQKBuR",
        "colab_type": "code",
        "colab": {
          "base_uri": "https://localhost:8080/",
          "height": 72
        },
        "outputId": "5ad6974c-0d92-4e04-f64a-5f10f40f261b"
      },
      "source": [
        "#Performance Metric Summary\n",
        "errors= predictions-x_valid\n",
        "print('Mean Absolute Error: ',np.abs(errors).mean())\n",
        "print('Mean Squared Error: ',np.square(errors).mean())\n",
        "print('Root Mean Squared Error: ',np.sqrt(np.square(errors).mean()))"
      ],
      "execution_count": 241,
      "outputs": [
        {
          "output_type": "stream",
          "text": [
            "Mean Absolute Error:  1.749104009598505\n",
            "Mean Squared Error:  5.261692815477474\n",
            "Root Mean Squared Error:  2.2938380098597797\n"
          ],
          "name": "stdout"
        }
      ]
    }
  ]
}