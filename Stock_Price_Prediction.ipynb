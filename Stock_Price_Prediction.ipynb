{
  "nbformat": 4,
  "nbformat_minor": 0,
  "metadata": {
    "colab": {
      "name": "Stock Price Prediction",
      "version": "0.3.2",
      "provenance": [],
      "collapsed_sections": [],
      "include_colab_link": true
    },
    "kernelspec": {
      "name": "python3",
      "display_name": "Python 3"
    },
    "accelerator": "GPU"
  },
  "cells": [
    {
      "cell_type": "markdown",
      "metadata": {
        "id": "view-in-github",
        "colab_type": "text"
      },
      "source": [
        "<a href=\"https://colab.research.google.com/github/manashpratim/Stock-Price-Prediction/blob/master/Stock_Price_Prediction.ipynb\" target=\"_parent\"><img src=\"https://colab.research.google.com/assets/colab-badge.svg\" alt=\"Open In Colab\"/></a>"
      ]
    },
    {
      "cell_type": "code",
      "metadata": {
        "id": "m8ZGbeXB_bMY",
        "colab_type": "code",
        "colab": {
          "base_uri": "https://localhost:8080/",
          "height": 239
        },
        "outputId": "94114f31-b9ab-4d62-8a14-7e27c2d62d50"
      },
      "source": [
        "#Downloading the datasets\n",
        "!wget --no-check-certificate \\\n",
        "      \"https://storage.googleapis.com/kaggle-datasets/854/1575/prices-split-adjusted.csv.zip?GoogleAccessId=web-data@kaggle-161607.iam.gserviceaccount.com&Expires=1565054445&Signature=J0F8Vzig2A5hBrToLl5LFQvJH%2FDaLLJZnElHfQ7tCNrzGtBhqxvFp9QWyywGlaeFY%2FAVEUWJs29yYLaG5iAleDtX%2BLg7tGSJP3msdXRU1xjiWJxivkHXX0IRTKsJG6fjYMVtB86o%2BsDbu6H%2BH2rnUTM5ka0EKSS2bTg79pe3wIf0bOr7b9ywcVB2P%2BfOBKi%2FrcS1Ukf5rXT7IOyFIze8z7XROSgia6NC9O4gLBEEs2ICVac8pxh95wiK1%2Fy4Vzf5kpZ9Vj1Hu0OF1h0h3Mk5QN%2B2tdBdBidwndhv4WiWmHYUtn%2B1cc8eMFHn65rba4E5PjRv90RLoyR2t35EKmfdqQ%3D%3D\"\\\n",
        "      -O \"/tmp/nyse.zip\""
      ],
      "execution_count": 1,
      "outputs": [
        {
          "output_type": "stream",
          "text": [
            "--2019-08-03 04:46:31--  https://storage.googleapis.com/kaggle-datasets/854/1575/prices-split-adjusted.csv.zip?GoogleAccessId=web-data@kaggle-161607.iam.gserviceaccount.com&Expires=1565054445&Signature=J0F8Vzig2A5hBrToLl5LFQvJH%2FDaLLJZnElHfQ7tCNrzGtBhqxvFp9QWyywGlaeFY%2FAVEUWJs29yYLaG5iAleDtX%2BLg7tGSJP3msdXRU1xjiWJxivkHXX0IRTKsJG6fjYMVtB86o%2BsDbu6H%2BH2rnUTM5ka0EKSS2bTg79pe3wIf0bOr7b9ywcVB2P%2BfOBKi%2FrcS1Ukf5rXT7IOyFIze8z7XROSgia6NC9O4gLBEEs2ICVac8pxh95wiK1%2Fy4Vzf5kpZ9Vj1Hu0OF1h0h3Mk5QN%2B2tdBdBidwndhv4WiWmHYUtn%2B1cc8eMFHn65rba4E5PjRv90RLoyR2t35EKmfdqQ%3D%3D\n",
            "Resolving storage.googleapis.com (storage.googleapis.com)... 172.217.25.240, 2404:6800:4004:80e::2010\n",
            "Connecting to storage.googleapis.com (storage.googleapis.com)|172.217.25.240|:443... connected.\n",
            "HTTP request sent, awaiting response... 200 OK\n",
            "Length: 17479071 (17M) [application/zip]\n",
            "Saving to: ‘/tmp/nyse.zip’\n",
            "\n",
            "/tmp/nyse.zip       100%[===================>]  16.67M  29.8MB/s    in 0.6s    \n",
            "\n",
            "2019-08-03 04:46:32 (29.8 MB/s) - ‘/tmp/nyse.zip’ saved [17479071/17479071]\n",
            "\n"
          ],
          "name": "stdout"
        }
      ]
    },
    {
      "cell_type": "code",
      "metadata": {
        "id": "Eq-YwLWbETv-",
        "colab_type": "code",
        "colab": {}
      },
      "source": [
        "# Unzipping the downloaded dataset\n",
        "import os\n",
        "import zipfile\n",
        "\n",
        "local_zip='/tmp/nyse.zip'\n",
        "zip_ref=zipfile.ZipFile(local_zip,'r')\n",
        "zip_ref.extractall('/tmp/nyse')\n",
        "zip_ref.close()"
      ],
      "execution_count": 0,
      "outputs": []
    },
    {
      "cell_type": "code",
      "metadata": {
        "id": "FMPVUPPYEbWf",
        "colab_type": "code",
        "colab": {}
      },
      "source": [
        "#Loading the dataset\n",
        "import pandas as pd\n",
        "df=pd.read_csv('/tmp/nyse/prices-split-adjusted.csv')"
      ],
      "execution_count": 0,
      "outputs": []
    },
    {
      "cell_type": "code",
      "metadata": {
        "id": "dJFRJIkaEjKB",
        "colab_type": "code",
        "colab": {}
      },
      "source": [
        "#Getting the Stock Prices of a company\n",
        "sym='MSFT'\n",
        "symbol=pd.DataFrame(df[df['symbol']==sym].values,columns=df.columns)"
      ],
      "execution_count": 0,
      "outputs": []
    },
    {
      "cell_type": "code",
      "metadata": {
        "id": "6WvQF3buEoUn",
        "colab_type": "code",
        "colab": {
          "base_uri": "https://localhost:8080/",
          "height": 175
        },
        "outputId": "ed46b559-9f2a-46ae-ccad-b7b9238f1217"
      },
      "source": [
        "symbol.head(4)"
      ],
      "execution_count": 5,
      "outputs": [
        {
          "output_type": "execute_result",
          "data": {
            "text/html": [
              "<div>\n",
              "<style scoped>\n",
              "    .dataframe tbody tr th:only-of-type {\n",
              "        vertical-align: middle;\n",
              "    }\n",
              "\n",
              "    .dataframe tbody tr th {\n",
              "        vertical-align: top;\n",
              "    }\n",
              "\n",
              "    .dataframe thead th {\n",
              "        text-align: right;\n",
              "    }\n",
              "</style>\n",
              "<table border=\"1\" class=\"dataframe\">\n",
              "  <thead>\n",
              "    <tr style=\"text-align: right;\">\n",
              "      <th></th>\n",
              "      <th>date</th>\n",
              "      <th>symbol</th>\n",
              "      <th>open</th>\n",
              "      <th>close</th>\n",
              "      <th>low</th>\n",
              "      <th>high</th>\n",
              "      <th>volume</th>\n",
              "    </tr>\n",
              "  </thead>\n",
              "  <tbody>\n",
              "    <tr>\n",
              "      <th>0</th>\n",
              "      <td>2010-01-04</td>\n",
              "      <td>MSFT</td>\n",
              "      <td>30.62</td>\n",
              "      <td>30.95</td>\n",
              "      <td>30.59</td>\n",
              "      <td>31.1</td>\n",
              "      <td>3.84091e+07</td>\n",
              "    </tr>\n",
              "    <tr>\n",
              "      <th>1</th>\n",
              "      <td>2010-01-05</td>\n",
              "      <td>MSFT</td>\n",
              "      <td>30.85</td>\n",
              "      <td>30.96</td>\n",
              "      <td>30.64</td>\n",
              "      <td>31.1</td>\n",
              "      <td>4.97496e+07</td>\n",
              "    </tr>\n",
              "    <tr>\n",
              "      <th>2</th>\n",
              "      <td>2010-01-06</td>\n",
              "      <td>MSFT</td>\n",
              "      <td>30.88</td>\n",
              "      <td>30.77</td>\n",
              "      <td>30.52</td>\n",
              "      <td>31.08</td>\n",
              "      <td>5.81824e+07</td>\n",
              "    </tr>\n",
              "    <tr>\n",
              "      <th>3</th>\n",
              "      <td>2010-01-07</td>\n",
              "      <td>MSFT</td>\n",
              "      <td>30.63</td>\n",
              "      <td>30.45</td>\n",
              "      <td>30.19</td>\n",
              "      <td>30.7</td>\n",
              "      <td>5.05597e+07</td>\n",
              "    </tr>\n",
              "  </tbody>\n",
              "</table>\n",
              "</div>"
            ],
            "text/plain": [
              "         date symbol   open  close    low   high       volume\n",
              "0  2010-01-04   MSFT  30.62  30.95  30.59   31.1  3.84091e+07\n",
              "1  2010-01-05   MSFT  30.85  30.96  30.64   31.1  4.97496e+07\n",
              "2  2010-01-06   MSFT  30.88  30.77  30.52  31.08  5.81824e+07\n",
              "3  2010-01-07   MSFT  30.63  30.45  30.19   30.7  5.05597e+07"
            ]
          },
          "metadata": {
            "tags": []
          },
          "execution_count": 5
        }
      ]
    },
    {
      "cell_type": "code",
      "metadata": {
        "id": "_Yfmev6eEz8W",
        "colab_type": "code",
        "colab": {
          "base_uri": "https://localhost:8080/",
          "height": 35
        },
        "outputId": "b970e666-f4e5-4dca-9858-65a9dc174de1"
      },
      "source": [
        "len(symbol)"
      ],
      "execution_count": 6,
      "outputs": [
        {
          "output_type": "execute_result",
          "data": {
            "text/plain": [
              "1762"
            ]
          },
          "metadata": {
            "tags": []
          },
          "execution_count": 6
        }
      ]
    },
    {
      "cell_type": "code",
      "metadata": {
        "id": "P3wQRst3E2SS",
        "colab_type": "code",
        "colab": {
          "base_uri": "https://localhost:8080/",
          "height": 387
        },
        "outputId": "ef82ec6f-e9ee-4d92-b42f-9cc69b56b956"
      },
      "source": [
        "#Visualizing the Trend of Strock Prices for a company\n",
        "import matplotlib.pyplot as plt\n",
        "import numpy as np\n",
        "t = symbol['date']\n",
        "a = symbol['open']\n",
        "b = symbol['high']\n",
        "c = symbol['low']\n",
        "d = symbol['close']\n",
        "\n",
        "plt.figure(figsize=(10,6))\n",
        "plt.subplot(221)\n",
        "plt.xticks([])\n",
        "plt.plot(t, a,'b')\n",
        "plt.ylabel('Open Price')\n",
        "plt.xlabel('Day')\n",
        "plt.title('Open Price Trend of MSFT (2010-2016)')\n",
        "\n",
        "plt.subplot(222)\n",
        "plt.xticks([])\n",
        "plt.plot(t, b,'r')\n",
        "plt.ylabel('High Price')\n",
        "plt.xlabel('Day')\n",
        "plt.title('High Price Trend of MSFT (2010-2016)')\n",
        "\n",
        "plt.subplot(223)\n",
        "plt.xticks([])\n",
        "plt.plot(t, c,'g')\n",
        "plt.ylabel('Low Price')\n",
        "plt.xlabel('Day')\n",
        "plt.title('Low Price Trend of MSFT (2010-2016)')\n",
        "\n",
        "plt.subplot(224)\n",
        "plt.xticks([])\n",
        "plt.plot(t, d,'m')\n",
        "plt.ylabel('Close Price')\n",
        "plt.xlabel('Day')\n",
        "plt.title('Close Price Trend of MSFT (2010-2016)')\n",
        "\n",
        "plt.show()\n"
      ],
      "execution_count": 8,
      "outputs": [
        {
          "output_type": "display_data",
          "data": {
            "image/png": "[encoded data removed]",
            "text/plain": [
              "<Figure size 720x432 with 4 Axes>"
            ]
          },
          "metadata": {
            "tags": []
          }
        }
      ]
    },
    {
      "cell_type": "code",
      "metadata": {
        "id": "FEW8WZN6GUYy",
        "colab_type": "code",
        "colab": {
          "base_uri": "https://localhost:8080/",
          "height": 54
        },
        "outputId": "29ebc353-279f-4ac3-e976-2c0b42db1240"
      },
      "source": [
        "#Getting the Close Price for the company\n",
        "series=[]\n",
        "time_stamps=[]\n",
        "\n",
        "for i in range(len(symbol)):\n",
        "  series.append(symbol['close'][i])\n",
        "  time_stamps.append(symbol['date'][i])\n",
        "\n",
        "series=np.array(series)\n",
        "time=np.array(time_stamps)\n",
        "print(series.shape)\n",
        "print(time.shape)      "
      ],
      "execution_count": 9,
      "outputs": [
        {
          "output_type": "stream",
          "text": [
            "(1762,)\n",
            "(1762,)\n"
          ],
          "name": "stdout"
        }
      ]
    },
    {
      "cell_type": "code",
      "metadata": {
        "id": "6I-PxL9UGiPl",
        "colab_type": "code",
        "colab": {}
      },
      "source": [
        "import tensorflow as tf"
      ],
      "execution_count": 0,
      "outputs": []
    },
    {
      "cell_type": "code",
      "metadata": {
        "id": "LTvZSrscGs5O",
        "colab_type": "code",
        "colab": {}
      },
      "source": [
        "#Function to prepare the dataset for training\n",
        "def windowed_dataset(series,window_size,batch_size,shuffle_buffer):\n",
        "    dataset=tf.data.Dataset.from_tensor_slices(series)\n",
        "    dataset=dataset.window(window_size+1,shift=1,drop_remainder=True)\n",
        "    dataset=dataset.flat_map(lambda window:window.batch(window_size+1))\n",
        "    dataset=dataset.shuffle(shuffle_buffer)\n",
        "    dataset=dataset.map(lambda window:(window[:-1],window[-1]))\n",
        "    dataset=dataset.batch(batch_size).prefetch(1)\n",
        "    return dataset"
      ],
      "execution_count": 0,
      "outputs": []
    },
    {
      "cell_type": "code",
      "metadata": {
        "id": "c19egSP3Gvj-",
        "colab_type": "code",
        "colab": {}
      },
      "source": [
        "#Prediction Function\n",
        "def forecast(model,series,window_size,split_time):\n",
        "  forecast=[]\n",
        "  for time in range(len(series)-window_size):\n",
        "    forecast.append(model.predict(series[time:time+window_size][np.newaxis]))\n",
        "  forecast=forecast[split_time-window_size:]\n",
        "  results=np.array(forecast)[:,0,0]\n",
        "  return results  "
      ],
      "execution_count": 0,
      "outputs": []
    },
    {
      "cell_type": "code",
      "metadata": {
        "id": "oiL267NgGyQS",
        "colab_type": "code",
        "colab": {}
      },
      "source": [
        "#Train Test Split\n",
        "split_time=1258\n",
        "x_train=series[:split_time]\n",
        "time_train=time[:split_time]\n",
        "x_valid=series[split_time:]\n",
        "time_valid=time[split_time:]\n",
        "window_size=20\n",
        "batch_size=252\n",
        "shuffle_buffer=1000"
      ],
      "execution_count": 0,
      "outputs": []
    },
    {
      "cell_type": "code",
      "metadata": {
        "id": "zecq_FwNIs0y",
        "colab_type": "code",
        "colab": {}
      },
      "source": [
        "dataset=windowed_dataset(x_train,window_size,batch_size,shuffle_buffer)"
      ],
      "execution_count": 0,
      "outputs": []
    },
    {
      "cell_type": "code",
      "metadata": {
        "id": "SIClI4jLI9R2",
        "colab_type": "code",
        "colab": {}
      },
      "source": [
        "model=tf.keras.models.Sequential([\n",
        "      tf.keras.layers.Lambda(lambda x:tf.expand_dims(x,axis=-1)\n",
        "                            # ,input_shape=[None]\n",
        "                            ),\n",
        "      tf.keras.layers.Conv1D(32,kernel_size=5,strides=1,padding='causal',activation='relu',input_shape=[None,1]),\n",
        "      #tf.keras.layers.LSTM(32,return_sequences=True),\n",
        "      #tf.keras.layers.LSTM(32),\n",
        "      tf.keras.layers.SimpleRNN(32,return_sequences=True),\n",
        "      tf.keras.layers.SimpleRNN(32),\n",
        "      #tf.keras.layers.Dense(20,activation='relu'),\n",
        "      #tf.keras.layers.Dense(10,activation='relu'),\n",
        "      tf.keras.layers.Dense(1),\n",
        "      tf.keras.layers.Lambda(lambda x:x*100)\n",
        "])"
      ],
      "execution_count": 0,
      "outputs": []
    },
    {
      "cell_type": "code",
      "metadata": {
        "id": "QgjmuBjiJI7R",
        "colab_type": "code",
        "colab": {
          "base_uri": "https://localhost:8080/",
          "height": 1000
        },
        "outputId": "ab20f4b4-80c6-4e7b-cb7a-cb786eaa3df2"
      },
      "source": [
        "#lr_scheduler=tf.keras.callbacks.LearningRateScheduler(lambda epochs:1e-8*10**(epochs/20))\n",
        "loss=tf.keras.losses.Huber()\n",
        "optimizer=tf.keras.optimizers.SGD(lr=2e-6,momentum=0.9)\n",
        "model.compile(loss=loss,optimizer=optimizer,metrics=['mae'])\n",
        "history=model.fit(dataset,epochs=200\n",
        "                  #,callbacks=[lr_scheduler]\n",
        "                 )"
      ],
      "execution_count": 115,
      "outputs": [
        {
          "output_type": "stream",
          "text": [
            "Epoch 1/200\n",
            "5/5 [==============================] - 2s 383ms/step - loss: 78.1806 - mean_absolute_error: 79.8007\n",
            "Epoch 2/200\n",
            "5/5 [==============================] - 0s 38ms/step - loss: 50.4457 - mean_absolute_error: 50.9803\n",
            "Epoch 3/200\n",
            "5/5 [==============================] - 0s 35ms/step - loss: 17.1357 - mean_absolute_error: 17.7039\n",
            "Epoch 4/200\n",
            "5/5 [==============================] - 0s 36ms/step - loss: 10.7521 - mean_absolute_error: 11.3504\n",
            "Epoch 5/200\n",
            "5/5 [==============================] - 0s 35ms/step - loss: 7.8269 - mean_absolute_error: 8.3230\n",
            "Epoch 6/200\n",
            "5/5 [==============================] - 0s 35ms/step - loss: 5.6594 - mean_absolute_error: 6.1181\n",
            "Epoch 7/200\n",
            "5/5 [==============================] - 0s 31ms/step - loss: 4.3838 - mean_absolute_error: 4.8446\n",
            "Epoch 8/200\n",
            "5/5 [==============================] - 0s 35ms/step - loss: 3.9066 - mean_absolute_error: 4.3751\n",
            "Epoch 9/200\n",
            "5/5 [==============================] - 0s 35ms/step - loss: 2.9805 - mean_absolute_error: 3.4456\n",
            "Epoch 10/200\n",
            "5/5 [==============================] - 0s 30ms/step - loss: 2.4482 - mean_absolute_error: 2.9037\n",
            "Epoch 11/200\n",
            "5/5 [==============================] - 0s 37ms/step - loss: 1.6889 - mean_absolute_error: 2.1397\n",
            "Epoch 12/200\n",
            "5/5 [==============================] - 0s 31ms/step - loss: 1.4734 - mean_absolute_error: 1.9037\n",
            "Epoch 13/200\n",
            "5/5 [==============================] - 0s 38ms/step - loss: 1.3617 - mean_absolute_error: 1.7973\n",
            "Epoch 14/200\n",
            "5/5 [==============================] - 0s 36ms/step - loss: 1.2906 - mean_absolute_error: 1.7237\n",
            "Epoch 15/200\n",
            "5/5 [==============================] - 0s 32ms/step - loss: 1.1361 - mean_absolute_error: 1.5748\n",
            "Epoch 16/200\n",
            "5/5 [==============================] - 0s 31ms/step - loss: 1.0543 - mean_absolute_error: 1.4714\n",
            "Epoch 17/200\n",
            "5/5 [==============================] - 0s 34ms/step - loss: 1.0420 - mean_absolute_error: 1.4519\n",
            "Epoch 18/200\n",
            "5/5 [==============================] - 0s 36ms/step - loss: 1.0469 - mean_absolute_error: 1.4576\n",
            "Epoch 19/200\n",
            "5/5 [==============================] - 0s 34ms/step - loss: 1.0377 - mean_absolute_error: 1.4509\n",
            "Epoch 20/200\n",
            "5/5 [==============================] - 0s 31ms/step - loss: 1.0079 - mean_absolute_error: 1.4255\n",
            "Epoch 21/200\n",
            "5/5 [==============================] - 0s 35ms/step - loss: 0.9678 - mean_absolute_error: 1.3879\n",
            "Epoch 22/200\n",
            "5/5 [==============================] - 0s 34ms/step - loss: 0.9276 - mean_absolute_error: 1.3382\n",
            "Epoch 23/200\n",
            "5/5 [==============================] - 0s 29ms/step - loss: 0.8946 - mean_absolute_error: 1.3059\n",
            "Epoch 24/200\n",
            "5/5 [==============================] - 0s 30ms/step - loss: 0.8734 - mean_absolute_error: 1.2812\n",
            "Epoch 25/200\n",
            "5/5 [==============================] - 0s 37ms/step - loss: 0.8435 - mean_absolute_error: 1.2470\n",
            "Epoch 26/200\n",
            "5/5 [==============================] - 0s 35ms/step - loss: 0.8192 - mean_absolute_error: 1.2204\n",
            "Epoch 27/200\n",
            "5/5 [==============================] - 0s 34ms/step - loss: 0.8190 - mean_absolute_error: 1.2196\n",
            "Epoch 28/200\n",
            "5/5 [==============================] - 0s 31ms/step - loss: 0.7785 - mean_absolute_error: 1.1776\n",
            "Epoch 29/200\n",
            "5/5 [==============================] - 0s 35ms/step - loss: 0.7401 - mean_absolute_error: 1.1330\n",
            "Epoch 30/200\n",
            "5/5 [==============================] - 0s 35ms/step - loss: 0.7339 - mean_absolute_error: 1.1311\n",
            "Epoch 31/200\n",
            "5/5 [==============================] - 0s 29ms/step - loss: 0.6922 - mean_absolute_error: 1.0829\n",
            "Epoch 32/200\n",
            "5/5 [==============================] - 0s 34ms/step - loss: 0.6398 - mean_absolute_error: 1.0276\n",
            "Epoch 33/200\n",
            "5/5 [==============================] - 0s 34ms/step - loss: 0.5833 - mean_absolute_error: 0.9621\n",
            "Epoch 34/200\n",
            "5/5 [==============================] - 0s 35ms/step - loss: 0.5649 - mean_absolute_error: 0.9407\n",
            "Epoch 35/200\n",
            "5/5 [==============================] - 0s 34ms/step - loss: 0.5196 - mean_absolute_error: 0.8903\n",
            "Epoch 36/200\n",
            "5/5 [==============================] - 0s 35ms/step - loss: 0.5448 - mean_absolute_error: 0.9184\n",
            "Epoch 37/200\n",
            "5/5 [==============================] - 0s 33ms/step - loss: 0.5261 - mean_absolute_error: 0.9036\n",
            "Epoch 38/200\n",
            "5/5 [==============================] - 0s 31ms/step - loss: 0.4986 - mean_absolute_error: 0.8693\n",
            "Epoch 39/200\n",
            "5/5 [==============================] - 0s 34ms/step - loss: 0.4551 - mean_absolute_error: 0.8193\n",
            "Epoch 40/200\n",
            "5/5 [==============================] - 0s 34ms/step - loss: 0.4476 - mean_absolute_error: 0.8066\n",
            "Epoch 41/200\n",
            "5/5 [==============================] - 0s 30ms/step - loss: 0.4855 - mean_absolute_error: 0.8527\n",
            "Epoch 42/200\n",
            "5/5 [==============================] - 0s 38ms/step - loss: 0.4586 - mean_absolute_error: 0.8201\n",
            "Epoch 43/200\n",
            "5/5 [==============================] - 0s 32ms/step - loss: 0.4293 - mean_absolute_error: 0.7870\n",
            "Epoch 44/200\n",
            "5/5 [==============================] - 0s 35ms/step - loss: 0.4197 - mean_absolute_error: 0.7774\n",
            "Epoch 45/200\n",
            "5/5 [==============================] - 0s 33ms/step - loss: 0.4124 - mean_absolute_error: 0.7674\n",
            "Epoch 46/200\n",
            "5/5 [==============================] - 0s 34ms/step - loss: 0.4013 - mean_absolute_error: 0.7545\n",
            "Epoch 47/200\n",
            "5/5 [==============================] - 0s 37ms/step - loss: 0.4176 - mean_absolute_error: 0.7749\n",
            "Epoch 48/200\n",
            "5/5 [==============================] - 0s 39ms/step - loss: 0.3897 - mean_absolute_error: 0.7406\n",
            "Epoch 49/200\n",
            "5/5 [==============================] - 0s 35ms/step - loss: 0.3955 - mean_absolute_error: 0.7487\n",
            "Epoch 50/200\n",
            "5/5 [==============================] - 0s 33ms/step - loss: 0.3801 - mean_absolute_error: 0.7299\n",
            "Epoch 51/200\n",
            "5/5 [==============================] - 0s 32ms/step - loss: 0.4163 - mean_absolute_error: 0.7725\n",
            "Epoch 52/200\n",
            "5/5 [==============================] - 0s 32ms/step - loss: 0.3896 - mean_absolute_error: 0.7434\n",
            "Epoch 53/200\n",
            "5/5 [==============================] - 0s 36ms/step - loss: 0.4041 - mean_absolute_error: 0.7597\n",
            "Epoch 54/200\n",
            "5/5 [==============================] - 0s 34ms/step - loss: 0.4105 - mean_absolute_error: 0.7689\n",
            "Epoch 55/200\n",
            "5/5 [==============================] - 0s 35ms/step - loss: 0.3589 - mean_absolute_error: 0.7068\n",
            "Epoch 56/200\n",
            "5/5 [==============================] - 0s 34ms/step - loss: 0.3560 - mean_absolute_error: 0.6988\n",
            "Epoch 57/200\n",
            "5/5 [==============================] - 0s 30ms/step - loss: 0.3490 - mean_absolute_error: 0.6925\n",
            "Epoch 58/200\n",
            "5/5 [==============================] - 0s 37ms/step - loss: 0.3470 - mean_absolute_error: 0.6922\n",
            "Epoch 59/200\n",
            "5/5 [==============================] - 0s 34ms/step - loss: 0.3500 - mean_absolute_error: 0.6938\n",
            "Epoch 60/200\n",
            "5/5 [==============================] - 0s 35ms/step - loss: 0.3457 - mean_absolute_error: 0.6864\n",
            "Epoch 61/200\n",
            "5/5 [==============================] - 0s 34ms/step - loss: 0.3409 - mean_absolute_error: 0.6821\n",
            "Epoch 62/200\n",
            "5/5 [==============================] - 0s 30ms/step - loss: 0.3409 - mean_absolute_error: 0.6835\n",
            "Epoch 63/200\n",
            "5/5 [==============================] - 0s 32ms/step - loss: 0.3302 - mean_absolute_error: 0.6707\n",
            "Epoch 64/200\n",
            "5/5 [==============================] - 0s 37ms/step - loss: 0.3360 - mean_absolute_error: 0.6763\n",
            "Epoch 65/200\n",
            "5/5 [==============================] - 0s 31ms/step - loss: 0.3243 - mean_absolute_error: 0.6598\n",
            "Epoch 66/200\n",
            "5/5 [==============================] - 0s 33ms/step - loss: 0.3363 - mean_absolute_error: 0.6750\n",
            "Epoch 67/200\n",
            "5/5 [==============================] - 0s 33ms/step - loss: 0.3316 - mean_absolute_error: 0.6698\n",
            "Epoch 68/200\n",
            "5/5 [==============================] - 0s 30ms/step - loss: 0.3614 - mean_absolute_error: 0.7114\n",
            "Epoch 69/200\n",
            "5/5 [==============================] - 0s 31ms/step - loss: 0.3480 - mean_absolute_error: 0.6896\n",
            "Epoch 70/200\n",
            "5/5 [==============================] - 0s 41ms/step - loss: 0.3534 - mean_absolute_error: 0.7049\n",
            "Epoch 71/200\n",
            "5/5 [==============================] - 0s 32ms/step - loss: 0.3160 - mean_absolute_error: 0.6480\n",
            "Epoch 72/200\n",
            "5/5 [==============================] - 0s 34ms/step - loss: 0.3389 - mean_absolute_error: 0.6824\n",
            "Epoch 73/200\n",
            "5/5 [==============================] - 0s 35ms/step - loss: 0.3677 - mean_absolute_error: 0.7249\n",
            "Epoch 74/200\n",
            "5/5 [==============================] - 0s 32ms/step - loss: 0.3034 - mean_absolute_error: 0.6342\n",
            "Epoch 75/200\n",
            "5/5 [==============================] - 0s 37ms/step - loss: 0.3143 - mean_absolute_error: 0.6513\n",
            "Epoch 76/200\n",
            "5/5 [==============================] - 0s 33ms/step - loss: 0.3245 - mean_absolute_error: 0.6641\n",
            "Epoch 77/200\n",
            "5/5 [==============================] - 0s 31ms/step - loss: 0.3042 - mean_absolute_error: 0.6363\n",
            "Epoch 78/200\n",
            "5/5 [==============================] - 0s 31ms/step - loss: 0.3235 - mean_absolute_error: 0.6612\n",
            "Epoch 79/200\n",
            "5/5 [==============================] - 0s 33ms/step - loss: 0.2976 - mean_absolute_error: 0.6309\n",
            "Epoch 80/200\n",
            "5/5 [==============================] - 0s 34ms/step - loss: 0.2959 - mean_absolute_error: 0.6291\n",
            "Epoch 81/200\n",
            "5/5 [==============================] - 0s 36ms/step - loss: 0.3205 - mean_absolute_error: 0.6561\n",
            "Epoch 82/200\n",
            "5/5 [==============================] - 0s 31ms/step - loss: 0.3030 - mean_absolute_error: 0.6378\n",
            "Epoch 83/200\n",
            "5/5 [==============================] - 0s 37ms/step - loss: 0.2867 - mean_absolute_error: 0.6106\n",
            "Epoch 84/200\n",
            "5/5 [==============================] - 0s 35ms/step - loss: 0.2977 - mean_absolute_error: 0.6296\n",
            "Epoch 85/200\n",
            "5/5 [==============================] - 0s 34ms/step - loss: 0.2992 - mean_absolute_error: 0.6307\n",
            "Epoch 86/200\n",
            "5/5 [==============================] - 0s 34ms/step - loss: 0.3061 - mean_absolute_error: 0.6451\n",
            "Epoch 87/200\n",
            "5/5 [==============================] - 0s 35ms/step - loss: 0.2931 - mean_absolute_error: 0.6225\n",
            "Epoch 88/200\n",
            "5/5 [==============================] - 0s 33ms/step - loss: 0.3098 - mean_absolute_error: 0.6467\n",
            "Epoch 89/200\n",
            "5/5 [==============================] - 0s 34ms/step - loss: 0.2814 - mean_absolute_error: 0.6106\n",
            "Epoch 90/200\n",
            "5/5 [==============================] - 0s 30ms/step - loss: 0.2842 - mean_absolute_error: 0.6139\n",
            "Epoch 91/200\n",
            "5/5 [==============================] - 0s 34ms/step - loss: 0.2787 - mean_absolute_error: 0.5998\n",
            "Epoch 92/200\n",
            "5/5 [==============================] - 0s 34ms/step - loss: 0.3241 - mean_absolute_error: 0.6685\n",
            "Epoch 93/200\n",
            "5/5 [==============================] - 0s 33ms/step - loss: 0.3146 - mean_absolute_error: 0.6616\n",
            "Epoch 94/200\n",
            "5/5 [==============================] - 0s 34ms/step - loss: 0.2909 - mean_absolute_error: 0.6191\n",
            "Epoch 95/200\n",
            "5/5 [==============================] - 0s 34ms/step - loss: 0.3164 - mean_absolute_error: 0.6583\n",
            "Epoch 96/200\n",
            "5/5 [==============================] - 0s 34ms/step - loss: 0.3480 - mean_absolute_error: 0.6986\n",
            "Epoch 97/200\n",
            "5/5 [==============================] - 0s 33ms/step - loss: 0.3435 - mean_absolute_error: 0.6916\n",
            "Epoch 98/200\n",
            "5/5 [==============================] - 0s 36ms/step - loss: 0.3292 - mean_absolute_error: 0.6785\n",
            "Epoch 99/200\n",
            "5/5 [==============================] - 0s 35ms/step - loss: 0.4034 - mean_absolute_error: 0.7820\n",
            "Epoch 100/200\n",
            "5/5 [==============================] - 0s 29ms/step - loss: 0.2806 - mean_absolute_error: 0.6089\n",
            "Epoch 101/200\n",
            "5/5 [==============================] - 0s 34ms/step - loss: 0.2877 - mean_absolute_error: 0.6187\n",
            "Epoch 102/200\n",
            "5/5 [==============================] - 0s 35ms/step - loss: 0.2783 - mean_absolute_error: 0.6038\n",
            "Epoch 103/200\n",
            "5/5 [==============================] - 0s 34ms/step - loss: 0.2529 - mean_absolute_error: 0.5680\n",
            "Epoch 104/200\n",
            "5/5 [==============================] - 0s 33ms/step - loss: 0.2698 - mean_absolute_error: 0.5905\n",
            "Epoch 105/200\n",
            "5/5 [==============================] - 0s 34ms/step - loss: 0.2678 - mean_absolute_error: 0.5864\n",
            "Epoch 106/200\n",
            "5/5 [==============================] - 0s 36ms/step - loss: 0.2541 - mean_absolute_error: 0.5687\n",
            "Epoch 107/200\n",
            "5/5 [==============================] - 0s 33ms/step - loss: 0.2748 - mean_absolute_error: 0.6017\n",
            "Epoch 108/200\n",
            "5/5 [==============================] - 0s 34ms/step - loss: 0.2465 - mean_absolute_error: 0.5590\n",
            "Epoch 109/200\n",
            "5/5 [==============================] - 0s 36ms/step - loss: 0.2625 - mean_absolute_error: 0.5836\n",
            "Epoch 110/200\n",
            "5/5 [==============================] - 0s 34ms/step - loss: 0.2512 - mean_absolute_error: 0.5644\n",
            "Epoch 111/200\n",
            "5/5 [==============================] - 0s 33ms/step - loss: 0.2533 - mean_absolute_error: 0.5734\n",
            "Epoch 112/200\n",
            "5/5 [==============================] - 0s 32ms/step - loss: 0.2412 - mean_absolute_error: 0.5521\n",
            "Epoch 113/200\n",
            "5/5 [==============================] - 0s 34ms/step - loss: 0.2762 - mean_absolute_error: 0.6048\n",
            "Epoch 114/200\n",
            "5/5 [==============================] - 0s 35ms/step - loss: 0.2706 - mean_absolute_error: 0.5946\n",
            "Epoch 115/200\n",
            "5/5 [==============================] - 0s 32ms/step - loss: 0.2588 - mean_absolute_error: 0.5772\n",
            "Epoch 116/200\n",
            "5/5 [==============================] - 0s 35ms/step - loss: 0.2679 - mean_absolute_error: 0.5891\n",
            "Epoch 117/200\n",
            "5/5 [==============================] - 0s 29ms/step - loss: 0.2493 - mean_absolute_error: 0.5706\n",
            "Epoch 118/200\n",
            "5/5 [==============================] - 0s 30ms/step - loss: 0.2770 - mean_absolute_error: 0.6045\n",
            "Epoch 119/200\n",
            "5/5 [==============================] - 0s 32ms/step - loss: 0.2732 - mean_absolute_error: 0.5998\n",
            "Epoch 120/200\n",
            "5/5 [==============================] - 0s 32ms/step - loss: 0.2309 - mean_absolute_error: 0.5379\n",
            "Epoch 121/200\n",
            "5/5 [==============================] - 0s 37ms/step - loss: 0.2408 - mean_absolute_error: 0.5541\n",
            "Epoch 122/200\n",
            "5/5 [==============================] - 0s 36ms/step - loss: 0.2328 - mean_absolute_error: 0.5413\n",
            "Epoch 123/200\n",
            "5/5 [==============================] - 0s 34ms/step - loss: 0.2533 - mean_absolute_error: 0.5722\n",
            "Epoch 124/200\n",
            "5/5 [==============================] - 0s 32ms/step - loss: 0.2476 - mean_absolute_error: 0.5582\n",
            "Epoch 125/200\n",
            "5/5 [==============================] - 0s 30ms/step - loss: 0.2269 - mean_absolute_error: 0.5318\n",
            "Epoch 126/200\n",
            "5/5 [==============================] - 0s 33ms/step - loss: 0.2368 - mean_absolute_error: 0.5452\n",
            "Epoch 127/200\n",
            "5/5 [==============================] - 0s 31ms/step - loss: 0.2306 - mean_absolute_error: 0.5366\n",
            "Epoch 128/200\n",
            "5/5 [==============================] - 0s 33ms/step - loss: 0.2290 - mean_absolute_error: 0.5338\n",
            "Epoch 129/200\n",
            "5/5 [==============================] - 0s 36ms/step - loss: 0.3476 - mean_absolute_error: 0.7053\n",
            "Epoch 130/200\n",
            "5/5 [==============================] - 0s 33ms/step - loss: 0.3032 - mean_absolute_error: 0.6431\n",
            "Epoch 131/200\n",
            "5/5 [==============================] - 0s 34ms/step - loss: 0.3134 - mean_absolute_error: 0.6547\n",
            "Epoch 132/200\n",
            "5/5 [==============================] - 0s 37ms/step - loss: 0.4698 - mean_absolute_error: 0.8639\n",
            "Epoch 133/200\n",
            "5/5 [==============================] - 0s 34ms/step - loss: 0.4340 - mean_absolute_error: 0.8211\n",
            "Epoch 134/200\n",
            "5/5 [==============================] - 0s 30ms/step - loss: 0.4196 - mean_absolute_error: 0.8101\n",
            "Epoch 135/200\n",
            "5/5 [==============================] - 0s 33ms/step - loss: 0.3530 - mean_absolute_error: 0.7034\n",
            "Epoch 136/200\n",
            "5/5 [==============================] - 0s 35ms/step - loss: 0.3325 - mean_absolute_error: 0.6757\n",
            "Epoch 137/200\n",
            "5/5 [==============================] - 0s 35ms/step - loss: 0.2715 - mean_absolute_error: 0.6028\n",
            "Epoch 138/200\n",
            "5/5 [==============================] - 0s 37ms/step - loss: 0.2573 - mean_absolute_error: 0.5808\n",
            "Epoch 139/200\n",
            "5/5 [==============================] - 0s 32ms/step - loss: 0.2991 - mean_absolute_error: 0.6329\n",
            "Epoch 140/200\n",
            "5/5 [==============================] - 0s 34ms/step - loss: 0.3012 - mean_absolute_error: 0.6470\n",
            "Epoch 141/200\n",
            "5/5 [==============================] - 0s 34ms/step - loss: 0.2601 - mean_absolute_error: 0.5879\n",
            "Epoch 142/200\n",
            "5/5 [==============================] - 0s 34ms/step - loss: 0.2892 - mean_absolute_error: 0.6316\n",
            "Epoch 143/200\n",
            "5/5 [==============================] - 0s 36ms/step - loss: 0.2341 - mean_absolute_error: 0.5437\n",
            "Epoch 144/200\n",
            "5/5 [==============================] - 0s 32ms/step - loss: 0.2176 - mean_absolute_error: 0.5222\n",
            "Epoch 145/200\n",
            "5/5 [==============================] - 0s 33ms/step - loss: 0.2682 - mean_absolute_error: 0.6021\n",
            "Epoch 146/200\n",
            "5/5 [==============================] - 0s 34ms/step - loss: 0.2202 - mean_absolute_error: 0.5267\n",
            "Epoch 147/200\n",
            "5/5 [==============================] - 0s 34ms/step - loss: 0.2295 - mean_absolute_error: 0.5375\n",
            "Epoch 148/200\n",
            "5/5 [==============================] - 0s 31ms/step - loss: 0.2246 - mean_absolute_error: 0.5314\n",
            "Epoch 149/200\n",
            "5/5 [==============================] - 0s 38ms/step - loss: 0.2322 - mean_absolute_error: 0.5412\n",
            "Epoch 150/200\n",
            "5/5 [==============================] - 0s 33ms/step - loss: 0.2715 - mean_absolute_error: 0.5960\n",
            "Epoch 151/200\n",
            "5/5 [==============================] - 0s 33ms/step - loss: 0.3349 - mean_absolute_error: 0.6966\n",
            "Epoch 152/200\n",
            "5/5 [==============================] - 0s 34ms/step - loss: 0.2175 - mean_absolute_error: 0.5257\n",
            "Epoch 153/200\n",
            "5/5 [==============================] - 0s 34ms/step - loss: 0.2218 - mean_absolute_error: 0.5265\n",
            "Epoch 154/200\n",
            "5/5 [==============================] - 0s 35ms/step - loss: 0.2237 - mean_absolute_error: 0.5309\n",
            "Epoch 155/200\n",
            "5/5 [==============================] - 0s 34ms/step - loss: 0.2683 - mean_absolute_error: 0.5933\n",
            "Epoch 156/200\n",
            "5/5 [==============================] - 0s 33ms/step - loss: 0.2271 - mean_absolute_error: 0.5358\n",
            "Epoch 157/200\n",
            "5/5 [==============================] - 0s 31ms/step - loss: 0.2595 - mean_absolute_error: 0.5789\n",
            "Epoch 158/200\n",
            "5/5 [==============================] - 0s 34ms/step - loss: 0.2136 - mean_absolute_error: 0.5138\n",
            "Epoch 159/200\n",
            "5/5 [==============================] - 0s 33ms/step - loss: 0.1999 - mean_absolute_error: 0.4918\n",
            "Epoch 160/200\n",
            "5/5 [==============================] - 0s 32ms/step - loss: 0.2223 - mean_absolute_error: 0.5299\n",
            "Epoch 161/200\n",
            "5/5 [==============================] - 0s 29ms/step - loss: 0.2394 - mean_absolute_error: 0.5572\n",
            "Epoch 162/200\n",
            "5/5 [==============================] - 0s 35ms/step - loss: 0.2074 - mean_absolute_error: 0.5069\n",
            "Epoch 163/200\n",
            "5/5 [==============================] - 0s 34ms/step - loss: 0.2429 - mean_absolute_error: 0.5616\n",
            "Epoch 164/200\n",
            "5/5 [==============================] - 0s 30ms/step - loss: 0.2137 - mean_absolute_error: 0.5170\n",
            "Epoch 165/200\n",
            "5/5 [==============================] - 0s 33ms/step - loss: 0.2312 - mean_absolute_error: 0.5447\n",
            "Epoch 166/200\n",
            "5/5 [==============================] - 0s 35ms/step - loss: 0.2294 - mean_absolute_error: 0.5442\n",
            "Epoch 167/200\n",
            "5/5 [==============================] - 0s 33ms/step - loss: 0.2563 - mean_absolute_error: 0.5833\n",
            "Epoch 168/200\n",
            "5/5 [==============================] - 0s 30ms/step - loss: 0.2585 - mean_absolute_error: 0.5826\n",
            "Epoch 169/200\n",
            "5/5 [==============================] - 0s 32ms/step - loss: 0.2275 - mean_absolute_error: 0.5412\n",
            "Epoch 170/200\n",
            "5/5 [==============================] - 0s 35ms/step - loss: 0.2360 - mean_absolute_error: 0.5516\n",
            "Epoch 171/200\n",
            "5/5 [==============================] - 0s 32ms/step - loss: 0.2398 - mean_absolute_error: 0.5582\n",
            "Epoch 172/200\n",
            "5/5 [==============================] - 0s 32ms/step - loss: 0.2051 - mean_absolute_error: 0.5034\n",
            "Epoch 173/200\n",
            "5/5 [==============================] - 0s 36ms/step - loss: 0.2134 - mean_absolute_error: 0.5137\n",
            "Epoch 174/200\n",
            "5/5 [==============================] - 0s 33ms/step - loss: 0.2029 - mean_absolute_error: 0.5030\n",
            "Epoch 175/200\n",
            "5/5 [==============================] - 0s 34ms/step - loss: 0.1943 - mean_absolute_error: 0.4834\n",
            "Epoch 176/200\n",
            "5/5 [==============================] - 0s 32ms/step - loss: 0.1941 - mean_absolute_error: 0.4868\n",
            "Epoch 177/200\n",
            "5/5 [==============================] - 0s 32ms/step - loss: 0.1875 - mean_absolute_error: 0.4761\n",
            "Epoch 178/200\n",
            "5/5 [==============================] - 0s 32ms/step - loss: 0.2030 - mean_absolute_error: 0.5016\n",
            "Epoch 179/200\n",
            "5/5 [==============================] - 0s 33ms/step - loss: 0.2164 - mean_absolute_error: 0.5288\n",
            "Epoch 180/200\n",
            "5/5 [==============================] - 0s 32ms/step - loss: 0.2070 - mean_absolute_error: 0.5090\n",
            "Epoch 181/200\n",
            "5/5 [==============================] - 0s 36ms/step - loss: 0.2227 - mean_absolute_error: 0.5334\n",
            "Epoch 182/200\n",
            "5/5 [==============================] - 0s 32ms/step - loss: 0.2185 - mean_absolute_error: 0.5318\n",
            "Epoch 183/200\n",
            "5/5 [==============================] - 0s 31ms/step - loss: 0.2057 - mean_absolute_error: 0.5010\n",
            "Epoch 184/200\n",
            "5/5 [==============================] - 0s 34ms/step - loss: 0.2560 - mean_absolute_error: 0.5886\n",
            "Epoch 185/200\n",
            "5/5 [==============================] - 0s 34ms/step - loss: 0.2689 - mean_absolute_error: 0.5977\n",
            "Epoch 186/200\n",
            "5/5 [==============================] - 0s 33ms/step - loss: 0.2855 - mean_absolute_error: 0.6278\n",
            "Epoch 187/200\n",
            "5/5 [==============================] - 0s 35ms/step - loss: 0.3872 - mean_absolute_error: 0.7695\n",
            "Epoch 188/200\n",
            "5/5 [==============================] - 0s 30ms/step - loss: 0.4200 - mean_absolute_error: 0.8093\n",
            "Epoch 189/200\n",
            "5/5 [==============================] - 0s 34ms/step - loss: 0.2906 - mean_absolute_error: 0.6271\n",
            "Epoch 190/200\n",
            "5/5 [==============================] - 0s 37ms/step - loss: 0.2738 - mean_absolute_error: 0.6091\n",
            "Epoch 191/200\n",
            "5/5 [==============================] - 0s 32ms/step - loss: 0.1962 - mean_absolute_error: 0.4951\n",
            "Epoch 192/200\n",
            "5/5 [==============================] - 0s 31ms/step - loss: 0.2063 - mean_absolute_error: 0.5094\n",
            "Epoch 193/200\n",
            "5/5 [==============================] - 0s 32ms/step - loss: 0.2437 - mean_absolute_error: 0.5636\n",
            "Epoch 194/200\n",
            "5/5 [==============================] - 0s 36ms/step - loss: 0.2067 - mean_absolute_error: 0.5112\n",
            "Epoch 195/200\n",
            "5/5 [==============================] - 0s 35ms/step - loss: 0.1981 - mean_absolute_error: 0.5003\n",
            "Epoch 196/200\n",
            "5/5 [==============================] - 0s 35ms/step - loss: 0.2093 - mean_absolute_error: 0.5178\n",
            "Epoch 197/200\n",
            "5/5 [==============================] - 0s 34ms/step - loss: 0.2579 - mean_absolute_error: 0.5884\n",
            "Epoch 198/200\n",
            "5/5 [==============================] - 0s 34ms/step - loss: 0.2731 - mean_absolute_error: 0.6097\n",
            "Epoch 199/200\n",
            "5/5 [==============================] - 0s 28ms/step - loss: 0.2304 - mean_absolute_error: 0.5464\n",
            "Epoch 200/200\n",
            "5/5 [==============================] - 0s 32ms/step - loss: 0.3293 - mean_absolute_error: 0.6901\n"
          ],
          "name": "stdout"
        }
      ]
    },
    {
      "cell_type": "code",
      "metadata": {
        "id": "wKt8KI5aJN4B",
        "colab_type": "code",
        "colab": {
          "base_uri": "https://localhost:8080/",
          "height": 291
        },
        "outputId": "43502e17-705e-45fe-d8d3-cfa27f4140ff"
      },
      "source": [
        "#Optimizing the Learning Rate\n",
        "lrs=1e-8*(10**(np.arange(100)/20))\n",
        "plt.semilogx(lrs,history.history['loss'])\n",
        "plt.axis([1e-8,1e-3,0,10])"
      ],
      "execution_count": 107,
      "outputs": [
        {
          "output_type": "execute_result",
          "data": {
            "text/plain": [
              "[1e-08, 0.001, 0, 10]"
            ]
          },
          "metadata": {
            "tags": []
          },
          "execution_count": 107
        },
        {
          "output_type": "display_data",
          "data": {
            "image/png": "[encoded data removed]",
            "text/plain": [
              "<Figure size 432x288 with 1 Axes>"
            ]
          },
          "metadata": {
            "tags": []
          }
        }
      ]
    },
    {
      "cell_type": "code",
      "metadata": {
        "id": "tsXiArVdJUmp",
        "colab_type": "code",
        "colab": {
          "base_uri": "https://localhost:8080/",
          "height": 269
        },
        "outputId": "d39ed543-1117-4d7f-d313-e3aee88ff54d"
      },
      "source": [
        "#Visualizing the Loss over the epochs\n",
        "loss=history.history['loss']\n",
        "epochs=range(20,len(loss))\n",
        "plt.plot(epochs,loss[20:],label='Training_Loss')\n",
        "plt.legend(loc='upper right')\n",
        "plt.show()"
      ],
      "execution_count": 126,
      "outputs": [
        {
          "output_type": "display_data",
          "data": {
            "image/png": "[encoded data removed]",
            "text/plain": [
              "<Figure size 432x288 with 1 Axes>"
            ]
          },
          "metadata": {
            "tags": []
          }
        }
      ]
    },
    {
      "cell_type": "code",
      "metadata": {
        "id": "N3jI45LGJte6",
        "colab_type": "code",
        "colab": {}
      },
      "source": [
        "#Forecasting the stock prices\n",
        "predictions=forecast(model,series,window_size,split_time)"
      ],
      "execution_count": 0,
      "outputs": []
    },
    {
      "cell_type": "code",
      "metadata": {
        "id": "I9MN64uMJ_TZ",
        "colab_type": "code",
        "colab": {
          "base_uri": "https://localhost:8080/",
          "height": 393
        },
        "outputId": "50faec7b-2956-4a2f-96c6-c17e0b76af62"
      },
      "source": [
        "#Visualizing the Forecasted Stock Prices\n",
        "plt.figure(figsize=(10,6))\n",
        "plt.plot(time_valid,x_valid,label='Actual Stock Price')\n",
        "plt.plot(time_valid,predictions,'r',label='Forecasted Stock Price')\n",
        "plt.xlabel('Time')\n",
        "plt.ylabel('Closing Stock Price')\n",
        "plt.legend(loc='upper left')\n",
        "plt.xticks([])"
      ],
      "execution_count": 128,
      "outputs": [
        {
          "output_type": "execute_result",
          "data": {
            "text/plain": [
              "([], <a list of 0 Text xticklabel objects>)"
            ]
          },
          "metadata": {
            "tags": []
          },
          "execution_count": 128
        },
        {
          "output_type": "display_data",
          "data": {
            "image/png": "[encoded data removed]",
            "text/plain": [
              "<Figure size 720x432 with 1 Axes>"
            ]
          },
          "metadata": {
            "tags": []
          }
        }
      ]
    },
    {
      "cell_type": "code",
      "metadata": {
        "id": "2HNlCEcQKBuR",
        "colab_type": "code",
        "colab": {
          "base_uri": "https://localhost:8080/",
          "height": 72
        },
        "outputId": "a476a2cd-f8c0-400f-93f6-9e29191556ca"
      },
      "source": [
        "#Performance Metric Summary\n",
        "errors= predictions-x_valid\n",
        "print('Mean Absolute Error: ',np.abs(errors).mean())\n",
        "print('Mean Squared Error: ',np.square(errors).mean())\n",
        "print('Root Mean Squared Error: ',np.sqrt(np.square(errors).mean()))"
      ],
      "execution_count": 119,
      "outputs": [
        {
          "output_type": "stream",
          "text": [
            "Mean Absolute Error:  1.8413852485826279\n",
            "Mean Squared Error:  5.913436106783698\n",
            "Root Mean Squared Error:  2.43175576626924\n"
          ],
          "name": "stdout"
        }
      ]
    }
  ]
}